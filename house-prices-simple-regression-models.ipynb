{
 "cells": [
  {
   "cell_type": "code",
   "execution_count": 1,
   "id": "551da597",
   "metadata": {
    "execution": {
     "iopub.execute_input": "2024-06-14T14:06:10.742244Z",
     "iopub.status.busy": "2024-06-14T14:06:10.741793Z",
     "iopub.status.idle": "2024-06-14T14:06:13.533440Z",
     "shell.execute_reply": "2024-06-14T14:06:13.532208Z"
    },
    "papermill": {
     "duration": 2.813593,
     "end_time": "2024-06-14T14:06:13.536527",
     "exception": false,
     "start_time": "2024-06-14T14:06:10.722934",
     "status": "completed"
    },
    "tags": []
   },
   "outputs": [],
   "source": [
    "# Standard libraries to handle data\n",
    "import numpy as np \n",
    "import pandas as pd \n",
    "import matplotlib.pyplot as plt\n",
    "import seaborn as sns\n",
    "\n",
    "# To evaluate and select model\n",
    "from sklearn.model_selection import train_test_split\n",
    "from sklearn.metrics import mean_absolute_error, mean_squared_error\n",
    "from sklearn.model_selection import cross_validate\n",
    "from sklearn.model_selection import GridSearchCV\n",
    "\n",
    "# Preprocessing data\n",
    "from sklearn.preprocessing import MinMaxScaler, StandardScaler\n",
    "from sklearn.preprocessing import PolynomialFeatures\n",
    "\n",
    "# Models\n",
    "from sklearn.linear_model import LinearRegression\n",
    "from sklearn.linear_model import ElasticNet\n",
    "\n",
    "import warnings\n",
    "warnings.filterwarnings('ignore')"
   ]
  },
  {
   "cell_type": "markdown",
   "id": "b04f2cf1",
   "metadata": {
    "papermill": {
     "duration": 0.018095,
     "end_time": "2024-06-14T14:06:13.572531",
     "exception": false,
     "start_time": "2024-06-14T14:06:13.554436",
     "status": "completed"
    },
    "tags": []
   },
   "source": [
    "# Load data and explore"
   ]
  },
  {
   "cell_type": "markdown",
   "id": "9a5b71e4",
   "metadata": {
    "papermill": {
     "duration": 0.016751,
     "end_time": "2024-06-14T14:06:13.606463",
     "exception": false,
     "start_time": "2024-06-14T14:06:13.589712",
     "status": "completed"
    },
    "tags": []
   },
   "source": [
    "## EDA"
   ]
  },
  {
   "cell_type": "code",
   "execution_count": 2,
   "id": "716c83b9",
   "metadata": {
    "execution": {
     "iopub.execute_input": "2024-06-14T14:06:13.642777Z",
     "iopub.status.busy": "2024-06-14T14:06:13.642251Z",
     "iopub.status.idle": "2024-06-14T14:06:13.718116Z",
     "shell.execute_reply": "2024-06-14T14:06:13.716983Z"
    },
    "papermill": {
     "duration": 0.097247,
     "end_time": "2024-06-14T14:06:13.720746",
     "exception": false,
     "start_time": "2024-06-14T14:06:13.623499",
     "status": "completed"
    },
    "tags": []
   },
   "outputs": [],
   "source": [
    "# Download test and train \n",
    "test_df = pd.read_csv('/kaggle/input/house-prices-advanced-regression-techniques/test.csv')\n",
    "train_df = pd.read_csv('/kaggle/input/house-prices-advanced-regression-techniques/train.csv')"
   ]
  },
  {
   "cell_type": "code",
   "execution_count": 3,
   "id": "b43ad380",
   "metadata": {
    "execution": {
     "iopub.execute_input": "2024-06-14T14:06:13.756480Z",
     "iopub.status.busy": "2024-06-14T14:06:13.756042Z",
     "iopub.status.idle": "2024-06-14T14:06:13.796156Z",
     "shell.execute_reply": "2024-06-14T14:06:13.795125Z"
    },
    "papermill": {
     "duration": 0.061119,
     "end_time": "2024-06-14T14:06:13.798988",
     "exception": false,
     "start_time": "2024-06-14T14:06:13.737869",
     "status": "completed"
    },
    "tags": []
   },
   "outputs": [
    {
     "data": {
      "text/html": [
       "<div>\n",
       "<style scoped>\n",
       "    .dataframe tbody tr th:only-of-type {\n",
       "        vertical-align: middle;\n",
       "    }\n",
       "\n",
       "    .dataframe tbody tr th {\n",
       "        vertical-align: top;\n",
       "    }\n",
       "\n",
       "    .dataframe thead th {\n",
       "        text-align: right;\n",
       "    }\n",
       "</style>\n",
       "<table border=\"1\" class=\"dataframe\">\n",
       "  <thead>\n",
       "    <tr style=\"text-align: right;\">\n",
       "      <th></th>\n",
       "      <th>Id</th>\n",
       "      <th>MSSubClass</th>\n",
       "      <th>MSZoning</th>\n",
       "      <th>LotFrontage</th>\n",
       "      <th>LotArea</th>\n",
       "      <th>Street</th>\n",
       "      <th>Alley</th>\n",
       "      <th>LotShape</th>\n",
       "      <th>LandContour</th>\n",
       "      <th>Utilities</th>\n",
       "      <th>...</th>\n",
       "      <th>PoolArea</th>\n",
       "      <th>PoolQC</th>\n",
       "      <th>Fence</th>\n",
       "      <th>MiscFeature</th>\n",
       "      <th>MiscVal</th>\n",
       "      <th>MoSold</th>\n",
       "      <th>YrSold</th>\n",
       "      <th>SaleType</th>\n",
       "      <th>SaleCondition</th>\n",
       "      <th>SalePrice</th>\n",
       "    </tr>\n",
       "  </thead>\n",
       "  <tbody>\n",
       "    <tr>\n",
       "      <th>0</th>\n",
       "      <td>1</td>\n",
       "      <td>60</td>\n",
       "      <td>RL</td>\n",
       "      <td>65.0</td>\n",
       "      <td>8450</td>\n",
       "      <td>Pave</td>\n",
       "      <td>NaN</td>\n",
       "      <td>Reg</td>\n",
       "      <td>Lvl</td>\n",
       "      <td>AllPub</td>\n",
       "      <td>...</td>\n",
       "      <td>0</td>\n",
       "      <td>NaN</td>\n",
       "      <td>NaN</td>\n",
       "      <td>NaN</td>\n",
       "      <td>0</td>\n",
       "      <td>2</td>\n",
       "      <td>2008</td>\n",
       "      <td>WD</td>\n",
       "      <td>Normal</td>\n",
       "      <td>208500</td>\n",
       "    </tr>\n",
       "    <tr>\n",
       "      <th>1</th>\n",
       "      <td>2</td>\n",
       "      <td>20</td>\n",
       "      <td>RL</td>\n",
       "      <td>80.0</td>\n",
       "      <td>9600</td>\n",
       "      <td>Pave</td>\n",
       "      <td>NaN</td>\n",
       "      <td>Reg</td>\n",
       "      <td>Lvl</td>\n",
       "      <td>AllPub</td>\n",
       "      <td>...</td>\n",
       "      <td>0</td>\n",
       "      <td>NaN</td>\n",
       "      <td>NaN</td>\n",
       "      <td>NaN</td>\n",
       "      <td>0</td>\n",
       "      <td>5</td>\n",
       "      <td>2007</td>\n",
       "      <td>WD</td>\n",
       "      <td>Normal</td>\n",
       "      <td>181500</td>\n",
       "    </tr>\n",
       "    <tr>\n",
       "      <th>2</th>\n",
       "      <td>3</td>\n",
       "      <td>60</td>\n",
       "      <td>RL</td>\n",
       "      <td>68.0</td>\n",
       "      <td>11250</td>\n",
       "      <td>Pave</td>\n",
       "      <td>NaN</td>\n",
       "      <td>IR1</td>\n",
       "      <td>Lvl</td>\n",
       "      <td>AllPub</td>\n",
       "      <td>...</td>\n",
       "      <td>0</td>\n",
       "      <td>NaN</td>\n",
       "      <td>NaN</td>\n",
       "      <td>NaN</td>\n",
       "      <td>0</td>\n",
       "      <td>9</td>\n",
       "      <td>2008</td>\n",
       "      <td>WD</td>\n",
       "      <td>Normal</td>\n",
       "      <td>223500</td>\n",
       "    </tr>\n",
       "    <tr>\n",
       "      <th>3</th>\n",
       "      <td>4</td>\n",
       "      <td>70</td>\n",
       "      <td>RL</td>\n",
       "      <td>60.0</td>\n",
       "      <td>9550</td>\n",
       "      <td>Pave</td>\n",
       "      <td>NaN</td>\n",
       "      <td>IR1</td>\n",
       "      <td>Lvl</td>\n",
       "      <td>AllPub</td>\n",
       "      <td>...</td>\n",
       "      <td>0</td>\n",
       "      <td>NaN</td>\n",
       "      <td>NaN</td>\n",
       "      <td>NaN</td>\n",
       "      <td>0</td>\n",
       "      <td>2</td>\n",
       "      <td>2006</td>\n",
       "      <td>WD</td>\n",
       "      <td>Abnorml</td>\n",
       "      <td>140000</td>\n",
       "    </tr>\n",
       "    <tr>\n",
       "      <th>4</th>\n",
       "      <td>5</td>\n",
       "      <td>60</td>\n",
       "      <td>RL</td>\n",
       "      <td>84.0</td>\n",
       "      <td>14260</td>\n",
       "      <td>Pave</td>\n",
       "      <td>NaN</td>\n",
       "      <td>IR1</td>\n",
       "      <td>Lvl</td>\n",
       "      <td>AllPub</td>\n",
       "      <td>...</td>\n",
       "      <td>0</td>\n",
       "      <td>NaN</td>\n",
       "      <td>NaN</td>\n",
       "      <td>NaN</td>\n",
       "      <td>0</td>\n",
       "      <td>12</td>\n",
       "      <td>2008</td>\n",
       "      <td>WD</td>\n",
       "      <td>Normal</td>\n",
       "      <td>250000</td>\n",
       "    </tr>\n",
       "  </tbody>\n",
       "</table>\n",
       "<p>5 rows × 81 columns</p>\n",
       "</div>"
      ],
      "text/plain": [
       "   Id  MSSubClass MSZoning  LotFrontage  LotArea Street Alley LotShape  \\\n",
       "0   1          60       RL         65.0     8450   Pave   NaN      Reg   \n",
       "1   2          20       RL         80.0     9600   Pave   NaN      Reg   \n",
       "2   3          60       RL         68.0    11250   Pave   NaN      IR1   \n",
       "3   4          70       RL         60.0     9550   Pave   NaN      IR1   \n",
       "4   5          60       RL         84.0    14260   Pave   NaN      IR1   \n",
       "\n",
       "  LandContour Utilities  ... PoolArea PoolQC Fence MiscFeature MiscVal MoSold  \\\n",
       "0         Lvl    AllPub  ...        0    NaN   NaN         NaN       0      2   \n",
       "1         Lvl    AllPub  ...        0    NaN   NaN         NaN       0      5   \n",
       "2         Lvl    AllPub  ...        0    NaN   NaN         NaN       0      9   \n",
       "3         Lvl    AllPub  ...        0    NaN   NaN         NaN       0      2   \n",
       "4         Lvl    AllPub  ...        0    NaN   NaN         NaN       0     12   \n",
       "\n",
       "  YrSold  SaleType  SaleCondition  SalePrice  \n",
       "0   2008        WD         Normal     208500  \n",
       "1   2007        WD         Normal     181500  \n",
       "2   2008        WD         Normal     223500  \n",
       "3   2006        WD        Abnorml     140000  \n",
       "4   2008        WD         Normal     250000  \n",
       "\n",
       "[5 rows x 81 columns]"
      ]
     },
     "execution_count": 3,
     "metadata": {},
     "output_type": "execute_result"
    }
   ],
   "source": [
    "train_df.head()"
   ]
  },
  {
   "cell_type": "code",
   "execution_count": 4,
   "id": "f8e2e939",
   "metadata": {
    "execution": {
     "iopub.execute_input": "2024-06-14T14:06:13.835857Z",
     "iopub.status.busy": "2024-06-14T14:06:13.835473Z",
     "iopub.status.idle": "2024-06-14T14:06:13.858356Z",
     "shell.execute_reply": "2024-06-14T14:06:13.857164Z"
    },
    "papermill": {
     "duration": 0.04412,
     "end_time": "2024-06-14T14:06:13.860734",
     "exception": false,
     "start_time": "2024-06-14T14:06:13.816614",
     "status": "completed"
    },
    "tags": []
   },
   "outputs": [
    {
     "data": {
      "text/html": [
       "<div>\n",
       "<style scoped>\n",
       "    .dataframe tbody tr th:only-of-type {\n",
       "        vertical-align: middle;\n",
       "    }\n",
       "\n",
       "    .dataframe tbody tr th {\n",
       "        vertical-align: top;\n",
       "    }\n",
       "\n",
       "    .dataframe thead th {\n",
       "        text-align: right;\n",
       "    }\n",
       "</style>\n",
       "<table border=\"1\" class=\"dataframe\">\n",
       "  <thead>\n",
       "    <tr style=\"text-align: right;\">\n",
       "      <th></th>\n",
       "      <th>Id</th>\n",
       "      <th>MSSubClass</th>\n",
       "      <th>MSZoning</th>\n",
       "      <th>LotFrontage</th>\n",
       "      <th>LotArea</th>\n",
       "      <th>Street</th>\n",
       "      <th>Alley</th>\n",
       "      <th>LotShape</th>\n",
       "      <th>LandContour</th>\n",
       "      <th>Utilities</th>\n",
       "      <th>...</th>\n",
       "      <th>ScreenPorch</th>\n",
       "      <th>PoolArea</th>\n",
       "      <th>PoolQC</th>\n",
       "      <th>Fence</th>\n",
       "      <th>MiscFeature</th>\n",
       "      <th>MiscVal</th>\n",
       "      <th>MoSold</th>\n",
       "      <th>YrSold</th>\n",
       "      <th>SaleType</th>\n",
       "      <th>SaleCondition</th>\n",
       "    </tr>\n",
       "  </thead>\n",
       "  <tbody>\n",
       "    <tr>\n",
       "      <th>0</th>\n",
       "      <td>1461</td>\n",
       "      <td>20</td>\n",
       "      <td>RH</td>\n",
       "      <td>80.0</td>\n",
       "      <td>11622</td>\n",
       "      <td>Pave</td>\n",
       "      <td>NaN</td>\n",
       "      <td>Reg</td>\n",
       "      <td>Lvl</td>\n",
       "      <td>AllPub</td>\n",
       "      <td>...</td>\n",
       "      <td>120</td>\n",
       "      <td>0</td>\n",
       "      <td>NaN</td>\n",
       "      <td>MnPrv</td>\n",
       "      <td>NaN</td>\n",
       "      <td>0</td>\n",
       "      <td>6</td>\n",
       "      <td>2010</td>\n",
       "      <td>WD</td>\n",
       "      <td>Normal</td>\n",
       "    </tr>\n",
       "    <tr>\n",
       "      <th>1</th>\n",
       "      <td>1462</td>\n",
       "      <td>20</td>\n",
       "      <td>RL</td>\n",
       "      <td>81.0</td>\n",
       "      <td>14267</td>\n",
       "      <td>Pave</td>\n",
       "      <td>NaN</td>\n",
       "      <td>IR1</td>\n",
       "      <td>Lvl</td>\n",
       "      <td>AllPub</td>\n",
       "      <td>...</td>\n",
       "      <td>0</td>\n",
       "      <td>0</td>\n",
       "      <td>NaN</td>\n",
       "      <td>NaN</td>\n",
       "      <td>Gar2</td>\n",
       "      <td>12500</td>\n",
       "      <td>6</td>\n",
       "      <td>2010</td>\n",
       "      <td>WD</td>\n",
       "      <td>Normal</td>\n",
       "    </tr>\n",
       "    <tr>\n",
       "      <th>2</th>\n",
       "      <td>1463</td>\n",
       "      <td>60</td>\n",
       "      <td>RL</td>\n",
       "      <td>74.0</td>\n",
       "      <td>13830</td>\n",
       "      <td>Pave</td>\n",
       "      <td>NaN</td>\n",
       "      <td>IR1</td>\n",
       "      <td>Lvl</td>\n",
       "      <td>AllPub</td>\n",
       "      <td>...</td>\n",
       "      <td>0</td>\n",
       "      <td>0</td>\n",
       "      <td>NaN</td>\n",
       "      <td>MnPrv</td>\n",
       "      <td>NaN</td>\n",
       "      <td>0</td>\n",
       "      <td>3</td>\n",
       "      <td>2010</td>\n",
       "      <td>WD</td>\n",
       "      <td>Normal</td>\n",
       "    </tr>\n",
       "    <tr>\n",
       "      <th>3</th>\n",
       "      <td>1464</td>\n",
       "      <td>60</td>\n",
       "      <td>RL</td>\n",
       "      <td>78.0</td>\n",
       "      <td>9978</td>\n",
       "      <td>Pave</td>\n",
       "      <td>NaN</td>\n",
       "      <td>IR1</td>\n",
       "      <td>Lvl</td>\n",
       "      <td>AllPub</td>\n",
       "      <td>...</td>\n",
       "      <td>0</td>\n",
       "      <td>0</td>\n",
       "      <td>NaN</td>\n",
       "      <td>NaN</td>\n",
       "      <td>NaN</td>\n",
       "      <td>0</td>\n",
       "      <td>6</td>\n",
       "      <td>2010</td>\n",
       "      <td>WD</td>\n",
       "      <td>Normal</td>\n",
       "    </tr>\n",
       "    <tr>\n",
       "      <th>4</th>\n",
       "      <td>1465</td>\n",
       "      <td>120</td>\n",
       "      <td>RL</td>\n",
       "      <td>43.0</td>\n",
       "      <td>5005</td>\n",
       "      <td>Pave</td>\n",
       "      <td>NaN</td>\n",
       "      <td>IR1</td>\n",
       "      <td>HLS</td>\n",
       "      <td>AllPub</td>\n",
       "      <td>...</td>\n",
       "      <td>144</td>\n",
       "      <td>0</td>\n",
       "      <td>NaN</td>\n",
       "      <td>NaN</td>\n",
       "      <td>NaN</td>\n",
       "      <td>0</td>\n",
       "      <td>1</td>\n",
       "      <td>2010</td>\n",
       "      <td>WD</td>\n",
       "      <td>Normal</td>\n",
       "    </tr>\n",
       "  </tbody>\n",
       "</table>\n",
       "<p>5 rows × 80 columns</p>\n",
       "</div>"
      ],
      "text/plain": [
       "     Id  MSSubClass MSZoning  LotFrontage  LotArea Street Alley LotShape  \\\n",
       "0  1461          20       RH         80.0    11622   Pave   NaN      Reg   \n",
       "1  1462          20       RL         81.0    14267   Pave   NaN      IR1   \n",
       "2  1463          60       RL         74.0    13830   Pave   NaN      IR1   \n",
       "3  1464          60       RL         78.0     9978   Pave   NaN      IR1   \n",
       "4  1465         120       RL         43.0     5005   Pave   NaN      IR1   \n",
       "\n",
       "  LandContour Utilities  ... ScreenPorch PoolArea PoolQC  Fence MiscFeature  \\\n",
       "0         Lvl    AllPub  ...         120        0    NaN  MnPrv         NaN   \n",
       "1         Lvl    AllPub  ...           0        0    NaN    NaN        Gar2   \n",
       "2         Lvl    AllPub  ...           0        0    NaN  MnPrv         NaN   \n",
       "3         Lvl    AllPub  ...           0        0    NaN    NaN         NaN   \n",
       "4         HLS    AllPub  ...         144        0    NaN    NaN         NaN   \n",
       "\n",
       "  MiscVal MoSold  YrSold  SaleType  SaleCondition  \n",
       "0       0      6    2010        WD         Normal  \n",
       "1   12500      6    2010        WD         Normal  \n",
       "2       0      3    2010        WD         Normal  \n",
       "3       0      6    2010        WD         Normal  \n",
       "4       0      1    2010        WD         Normal  \n",
       "\n",
       "[5 rows x 80 columns]"
      ]
     },
     "execution_count": 4,
     "metadata": {},
     "output_type": "execute_result"
    }
   ],
   "source": [
    "test_df.head()"
   ]
  },
  {
   "cell_type": "code",
   "execution_count": 5,
   "id": "21576a8a",
   "metadata": {
    "execution": {
     "iopub.execute_input": "2024-06-14T14:06:13.898600Z",
     "iopub.status.busy": "2024-06-14T14:06:13.897851Z",
     "iopub.status.idle": "2024-06-14T14:06:13.992608Z",
     "shell.execute_reply": "2024-06-14T14:06:13.991579Z"
    },
    "papermill": {
     "duration": 0.116314,
     "end_time": "2024-06-14T14:06:13.994963",
     "exception": false,
     "start_time": "2024-06-14T14:06:13.878649",
     "status": "completed"
    },
    "tags": []
   },
   "outputs": [
    {
     "data": {
      "text/html": [
       "<div>\n",
       "<style scoped>\n",
       "    .dataframe tbody tr th:only-of-type {\n",
       "        vertical-align: middle;\n",
       "    }\n",
       "\n",
       "    .dataframe tbody tr th {\n",
       "        vertical-align: top;\n",
       "    }\n",
       "\n",
       "    .dataframe thead th {\n",
       "        text-align: right;\n",
       "    }\n",
       "</style>\n",
       "<table border=\"1\" class=\"dataframe\">\n",
       "  <thead>\n",
       "    <tr style=\"text-align: right;\">\n",
       "      <th></th>\n",
       "      <th>Id</th>\n",
       "      <th>MSSubClass</th>\n",
       "      <th>LotFrontage</th>\n",
       "      <th>LotArea</th>\n",
       "      <th>OverallQual</th>\n",
       "      <th>OverallCond</th>\n",
       "      <th>YearBuilt</th>\n",
       "      <th>YearRemodAdd</th>\n",
       "      <th>MasVnrArea</th>\n",
       "      <th>BsmtFinSF1</th>\n",
       "      <th>...</th>\n",
       "      <th>WoodDeckSF</th>\n",
       "      <th>OpenPorchSF</th>\n",
       "      <th>EnclosedPorch</th>\n",
       "      <th>3SsnPorch</th>\n",
       "      <th>ScreenPorch</th>\n",
       "      <th>PoolArea</th>\n",
       "      <th>MiscVal</th>\n",
       "      <th>MoSold</th>\n",
       "      <th>YrSold</th>\n",
       "      <th>SalePrice</th>\n",
       "    </tr>\n",
       "  </thead>\n",
       "  <tbody>\n",
       "    <tr>\n",
       "      <th>count</th>\n",
       "      <td>1460.000000</td>\n",
       "      <td>1460.000000</td>\n",
       "      <td>1201.000000</td>\n",
       "      <td>1460.000000</td>\n",
       "      <td>1460.000000</td>\n",
       "      <td>1460.000000</td>\n",
       "      <td>1460.000000</td>\n",
       "      <td>1460.000000</td>\n",
       "      <td>1452.000000</td>\n",
       "      <td>1460.000000</td>\n",
       "      <td>...</td>\n",
       "      <td>1460.000000</td>\n",
       "      <td>1460.000000</td>\n",
       "      <td>1460.000000</td>\n",
       "      <td>1460.000000</td>\n",
       "      <td>1460.000000</td>\n",
       "      <td>1460.000000</td>\n",
       "      <td>1460.000000</td>\n",
       "      <td>1460.000000</td>\n",
       "      <td>1460.000000</td>\n",
       "      <td>1460.000000</td>\n",
       "    </tr>\n",
       "    <tr>\n",
       "      <th>mean</th>\n",
       "      <td>730.500000</td>\n",
       "      <td>56.897260</td>\n",
       "      <td>70.049958</td>\n",
       "      <td>10516.828082</td>\n",
       "      <td>6.099315</td>\n",
       "      <td>5.575342</td>\n",
       "      <td>1971.267808</td>\n",
       "      <td>1984.865753</td>\n",
       "      <td>103.685262</td>\n",
       "      <td>443.639726</td>\n",
       "      <td>...</td>\n",
       "      <td>94.244521</td>\n",
       "      <td>46.660274</td>\n",
       "      <td>21.954110</td>\n",
       "      <td>3.409589</td>\n",
       "      <td>15.060959</td>\n",
       "      <td>2.758904</td>\n",
       "      <td>43.489041</td>\n",
       "      <td>6.321918</td>\n",
       "      <td>2007.815753</td>\n",
       "      <td>180921.195890</td>\n",
       "    </tr>\n",
       "    <tr>\n",
       "      <th>std</th>\n",
       "      <td>421.610009</td>\n",
       "      <td>42.300571</td>\n",
       "      <td>24.284752</td>\n",
       "      <td>9981.264932</td>\n",
       "      <td>1.382997</td>\n",
       "      <td>1.112799</td>\n",
       "      <td>30.202904</td>\n",
       "      <td>20.645407</td>\n",
       "      <td>181.066207</td>\n",
       "      <td>456.098091</td>\n",
       "      <td>...</td>\n",
       "      <td>125.338794</td>\n",
       "      <td>66.256028</td>\n",
       "      <td>61.119149</td>\n",
       "      <td>29.317331</td>\n",
       "      <td>55.757415</td>\n",
       "      <td>40.177307</td>\n",
       "      <td>496.123024</td>\n",
       "      <td>2.703626</td>\n",
       "      <td>1.328095</td>\n",
       "      <td>79442.502883</td>\n",
       "    </tr>\n",
       "    <tr>\n",
       "      <th>min</th>\n",
       "      <td>1.000000</td>\n",
       "      <td>20.000000</td>\n",
       "      <td>21.000000</td>\n",
       "      <td>1300.000000</td>\n",
       "      <td>1.000000</td>\n",
       "      <td>1.000000</td>\n",
       "      <td>1872.000000</td>\n",
       "      <td>1950.000000</td>\n",
       "      <td>0.000000</td>\n",
       "      <td>0.000000</td>\n",
       "      <td>...</td>\n",
       "      <td>0.000000</td>\n",
       "      <td>0.000000</td>\n",
       "      <td>0.000000</td>\n",
       "      <td>0.000000</td>\n",
       "      <td>0.000000</td>\n",
       "      <td>0.000000</td>\n",
       "      <td>0.000000</td>\n",
       "      <td>1.000000</td>\n",
       "      <td>2006.000000</td>\n",
       "      <td>34900.000000</td>\n",
       "    </tr>\n",
       "    <tr>\n",
       "      <th>25%</th>\n",
       "      <td>365.750000</td>\n",
       "      <td>20.000000</td>\n",
       "      <td>59.000000</td>\n",
       "      <td>7553.500000</td>\n",
       "      <td>5.000000</td>\n",
       "      <td>5.000000</td>\n",
       "      <td>1954.000000</td>\n",
       "      <td>1967.000000</td>\n",
       "      <td>0.000000</td>\n",
       "      <td>0.000000</td>\n",
       "      <td>...</td>\n",
       "      <td>0.000000</td>\n",
       "      <td>0.000000</td>\n",
       "      <td>0.000000</td>\n",
       "      <td>0.000000</td>\n",
       "      <td>0.000000</td>\n",
       "      <td>0.000000</td>\n",
       "      <td>0.000000</td>\n",
       "      <td>5.000000</td>\n",
       "      <td>2007.000000</td>\n",
       "      <td>129975.000000</td>\n",
       "    </tr>\n",
       "    <tr>\n",
       "      <th>50%</th>\n",
       "      <td>730.500000</td>\n",
       "      <td>50.000000</td>\n",
       "      <td>69.000000</td>\n",
       "      <td>9478.500000</td>\n",
       "      <td>6.000000</td>\n",
       "      <td>5.000000</td>\n",
       "      <td>1973.000000</td>\n",
       "      <td>1994.000000</td>\n",
       "      <td>0.000000</td>\n",
       "      <td>383.500000</td>\n",
       "      <td>...</td>\n",
       "      <td>0.000000</td>\n",
       "      <td>25.000000</td>\n",
       "      <td>0.000000</td>\n",
       "      <td>0.000000</td>\n",
       "      <td>0.000000</td>\n",
       "      <td>0.000000</td>\n",
       "      <td>0.000000</td>\n",
       "      <td>6.000000</td>\n",
       "      <td>2008.000000</td>\n",
       "      <td>163000.000000</td>\n",
       "    </tr>\n",
       "    <tr>\n",
       "      <th>75%</th>\n",
       "      <td>1095.250000</td>\n",
       "      <td>70.000000</td>\n",
       "      <td>80.000000</td>\n",
       "      <td>11601.500000</td>\n",
       "      <td>7.000000</td>\n",
       "      <td>6.000000</td>\n",
       "      <td>2000.000000</td>\n",
       "      <td>2004.000000</td>\n",
       "      <td>166.000000</td>\n",
       "      <td>712.250000</td>\n",
       "      <td>...</td>\n",
       "      <td>168.000000</td>\n",
       "      <td>68.000000</td>\n",
       "      <td>0.000000</td>\n",
       "      <td>0.000000</td>\n",
       "      <td>0.000000</td>\n",
       "      <td>0.000000</td>\n",
       "      <td>0.000000</td>\n",
       "      <td>8.000000</td>\n",
       "      <td>2009.000000</td>\n",
       "      <td>214000.000000</td>\n",
       "    </tr>\n",
       "    <tr>\n",
       "      <th>max</th>\n",
       "      <td>1460.000000</td>\n",
       "      <td>190.000000</td>\n",
       "      <td>313.000000</td>\n",
       "      <td>215245.000000</td>\n",
       "      <td>10.000000</td>\n",
       "      <td>9.000000</td>\n",
       "      <td>2010.000000</td>\n",
       "      <td>2010.000000</td>\n",
       "      <td>1600.000000</td>\n",
       "      <td>5644.000000</td>\n",
       "      <td>...</td>\n",
       "      <td>857.000000</td>\n",
       "      <td>547.000000</td>\n",
       "      <td>552.000000</td>\n",
       "      <td>508.000000</td>\n",
       "      <td>480.000000</td>\n",
       "      <td>738.000000</td>\n",
       "      <td>15500.000000</td>\n",
       "      <td>12.000000</td>\n",
       "      <td>2010.000000</td>\n",
       "      <td>755000.000000</td>\n",
       "    </tr>\n",
       "  </tbody>\n",
       "</table>\n",
       "<p>8 rows × 38 columns</p>\n",
       "</div>"
      ],
      "text/plain": [
       "                Id   MSSubClass  LotFrontage        LotArea  OverallQual  \\\n",
       "count  1460.000000  1460.000000  1201.000000    1460.000000  1460.000000   \n",
       "mean    730.500000    56.897260    70.049958   10516.828082     6.099315   \n",
       "std     421.610009    42.300571    24.284752    9981.264932     1.382997   \n",
       "min       1.000000    20.000000    21.000000    1300.000000     1.000000   \n",
       "25%     365.750000    20.000000    59.000000    7553.500000     5.000000   \n",
       "50%     730.500000    50.000000    69.000000    9478.500000     6.000000   \n",
       "75%    1095.250000    70.000000    80.000000   11601.500000     7.000000   \n",
       "max    1460.000000   190.000000   313.000000  215245.000000    10.000000   \n",
       "\n",
       "       OverallCond    YearBuilt  YearRemodAdd   MasVnrArea   BsmtFinSF1  ...  \\\n",
       "count  1460.000000  1460.000000   1460.000000  1452.000000  1460.000000  ...   \n",
       "mean      5.575342  1971.267808   1984.865753   103.685262   443.639726  ...   \n",
       "std       1.112799    30.202904     20.645407   181.066207   456.098091  ...   \n",
       "min       1.000000  1872.000000   1950.000000     0.000000     0.000000  ...   \n",
       "25%       5.000000  1954.000000   1967.000000     0.000000     0.000000  ...   \n",
       "50%       5.000000  1973.000000   1994.000000     0.000000   383.500000  ...   \n",
       "75%       6.000000  2000.000000   2004.000000   166.000000   712.250000  ...   \n",
       "max       9.000000  2010.000000   2010.000000  1600.000000  5644.000000  ...   \n",
       "\n",
       "        WoodDeckSF  OpenPorchSF  EnclosedPorch    3SsnPorch  ScreenPorch  \\\n",
       "count  1460.000000  1460.000000    1460.000000  1460.000000  1460.000000   \n",
       "mean     94.244521    46.660274      21.954110     3.409589    15.060959   \n",
       "std     125.338794    66.256028      61.119149    29.317331    55.757415   \n",
       "min       0.000000     0.000000       0.000000     0.000000     0.000000   \n",
       "25%       0.000000     0.000000       0.000000     0.000000     0.000000   \n",
       "50%       0.000000    25.000000       0.000000     0.000000     0.000000   \n",
       "75%     168.000000    68.000000       0.000000     0.000000     0.000000   \n",
       "max     857.000000   547.000000     552.000000   508.000000   480.000000   \n",
       "\n",
       "          PoolArea       MiscVal       MoSold       YrSold      SalePrice  \n",
       "count  1460.000000   1460.000000  1460.000000  1460.000000    1460.000000  \n",
       "mean      2.758904     43.489041     6.321918  2007.815753  180921.195890  \n",
       "std      40.177307    496.123024     2.703626     1.328095   79442.502883  \n",
       "min       0.000000      0.000000     1.000000  2006.000000   34900.000000  \n",
       "25%       0.000000      0.000000     5.000000  2007.000000  129975.000000  \n",
       "50%       0.000000      0.000000     6.000000  2008.000000  163000.000000  \n",
       "75%       0.000000      0.000000     8.000000  2009.000000  214000.000000  \n",
       "max     738.000000  15500.000000    12.000000  2010.000000  755000.000000  \n",
       "\n",
       "[8 rows x 38 columns]"
      ]
     },
     "execution_count": 5,
     "metadata": {},
     "output_type": "execute_result"
    }
   ],
   "source": [
    "train_df.describe()"
   ]
  },
  {
   "cell_type": "markdown",
   "id": "4a11b2ed",
   "metadata": {
    "papermill": {
     "duration": 0.017959,
     "end_time": "2024-06-14T14:06:14.031769",
     "exception": false,
     "start_time": "2024-06-14T14:06:14.013810",
     "status": "completed"
    },
    "tags": []
   },
   "source": [
    "## Missing values"
   ]
  },
  {
   "cell_type": "code",
   "execution_count": 6,
   "id": "8eda7876",
   "metadata": {
    "execution": {
     "iopub.execute_input": "2024-06-14T14:06:14.070841Z",
     "iopub.status.busy": "2024-06-14T14:06:14.069882Z",
     "iopub.status.idle": "2024-06-14T14:06:14.080972Z",
     "shell.execute_reply": "2024-06-14T14:06:14.079739Z"
    },
    "papermill": {
     "duration": 0.033511,
     "end_time": "2024-06-14T14:06:14.083544",
     "exception": false,
     "start_time": "2024-06-14T14:06:14.050033",
     "status": "completed"
    },
    "tags": []
   },
   "outputs": [
    {
     "data": {
      "text/plain": [
       "7829"
      ]
     },
     "execution_count": 6,
     "metadata": {},
     "output_type": "execute_result"
    }
   ],
   "source": [
    "# Count all missing values\n",
    "train_df.isnull().sum().sum() "
   ]
  },
  {
   "cell_type": "code",
   "execution_count": 7,
   "id": "abb99e6c",
   "metadata": {
    "execution": {
     "iopub.execute_input": "2024-06-14T14:06:14.122776Z",
     "iopub.status.busy": "2024-06-14T14:06:14.121751Z",
     "iopub.status.idle": "2024-06-14T14:06:14.153089Z",
     "shell.execute_reply": "2024-06-14T14:06:14.151777Z"
    },
    "papermill": {
     "duration": 0.053442,
     "end_time": "2024-06-14T14:06:14.155782",
     "exception": false,
     "start_time": "2024-06-14T14:06:14.102340",
     "status": "completed"
    },
    "tags": []
   },
   "outputs": [
    {
     "name": "stdout",
     "output_type": "stream",
     "text": [
      "column: LotFrontage has 259 missing values\n",
      "column: Alley has 1369 missing values\n",
      "column: MasVnrType has 872 missing values\n",
      "column: MasVnrArea has 8 missing values\n",
      "column: BsmtQual has 37 missing values\n",
      "column: BsmtCond has 37 missing values\n",
      "column: BsmtExposure has 38 missing values\n",
      "column: BsmtFinType1 has 37 missing values\n",
      "column: BsmtFinType2 has 38 missing values\n",
      "column: Electrical has 1 missing values\n",
      "column: FireplaceQu has 690 missing values\n",
      "column: GarageType has 81 missing values\n",
      "column: GarageYrBlt has 81 missing values\n",
      "column: GarageFinish has 81 missing values\n",
      "column: GarageQual has 81 missing values\n",
      "column: GarageCond has 81 missing values\n",
      "column: PoolQC has 1453 missing values\n",
      "column: Fence has 1179 missing values\n",
      "column: MiscFeature has 1406 missing values\n"
     ]
    }
   ],
   "source": [
    "columns_with_missing_values = []\n",
    "for column in train_df.columns:\n",
    "    if train_df[column].isnull().sum() > 0:\n",
    "        columns_with_missing_values.append(column)\n",
    "for column in columns_with_missing_values:\n",
    "    print(f\"column: {column} has {train_df[column].isnull().sum()} missing values\")"
   ]
  },
  {
   "cell_type": "markdown",
   "id": "699d8521",
   "metadata": {
    "papermill": {
     "duration": 0.018704,
     "end_time": "2024-06-14T14:06:14.193647",
     "exception": false,
     "start_time": "2024-06-14T14:06:14.174943",
     "status": "completed"
    },
    "tags": []
   },
   "source": [
    "## Columns info"
   ]
  },
  {
   "cell_type": "code",
   "execution_count": 8,
   "id": "fd88a476",
   "metadata": {
    "execution": {
     "iopub.execute_input": "2024-06-14T14:06:14.233007Z",
     "iopub.status.busy": "2024-06-14T14:06:14.231897Z",
     "iopub.status.idle": "2024-06-14T14:06:14.258563Z",
     "shell.execute_reply": "2024-06-14T14:06:14.257422Z"
    },
    "papermill": {
     "duration": 0.049217,
     "end_time": "2024-06-14T14:06:14.261566",
     "exception": false,
     "start_time": "2024-06-14T14:06:14.212349",
     "status": "completed"
    },
    "tags": []
   },
   "outputs": [
    {
     "name": "stdout",
     "output_type": "stream",
     "text": [
      "<class 'pandas.core.frame.DataFrame'>\n",
      "RangeIndex: 1460 entries, 0 to 1459\n",
      "Data columns (total 81 columns):\n",
      " #   Column         Non-Null Count  Dtype  \n",
      "---  ------         --------------  -----  \n",
      " 0   Id             1460 non-null   int64  \n",
      " 1   MSSubClass     1460 non-null   int64  \n",
      " 2   MSZoning       1460 non-null   object \n",
      " 3   LotFrontage    1201 non-null   float64\n",
      " 4   LotArea        1460 non-null   int64  \n",
      " 5   Street         1460 non-null   object \n",
      " 6   Alley          91 non-null     object \n",
      " 7   LotShape       1460 non-null   object \n",
      " 8   LandContour    1460 non-null   object \n",
      " 9   Utilities      1460 non-null   object \n",
      " 10  LotConfig      1460 non-null   object \n",
      " 11  LandSlope      1460 non-null   object \n",
      " 12  Neighborhood   1460 non-null   object \n",
      " 13  Condition1     1460 non-null   object \n",
      " 14  Condition2     1460 non-null   object \n",
      " 15  BldgType       1460 non-null   object \n",
      " 16  HouseStyle     1460 non-null   object \n",
      " 17  OverallQual    1460 non-null   int64  \n",
      " 18  OverallCond    1460 non-null   int64  \n",
      " 19  YearBuilt      1460 non-null   int64  \n",
      " 20  YearRemodAdd   1460 non-null   int64  \n",
      " 21  RoofStyle      1460 non-null   object \n",
      " 22  RoofMatl       1460 non-null   object \n",
      " 23  Exterior1st    1460 non-null   object \n",
      " 24  Exterior2nd    1460 non-null   object \n",
      " 25  MasVnrType     588 non-null    object \n",
      " 26  MasVnrArea     1452 non-null   float64\n",
      " 27  ExterQual      1460 non-null   object \n",
      " 28  ExterCond      1460 non-null   object \n",
      " 29  Foundation     1460 non-null   object \n",
      " 30  BsmtQual       1423 non-null   object \n",
      " 31  BsmtCond       1423 non-null   object \n",
      " 32  BsmtExposure   1422 non-null   object \n",
      " 33  BsmtFinType1   1423 non-null   object \n",
      " 34  BsmtFinSF1     1460 non-null   int64  \n",
      " 35  BsmtFinType2   1422 non-null   object \n",
      " 36  BsmtFinSF2     1460 non-null   int64  \n",
      " 37  BsmtUnfSF      1460 non-null   int64  \n",
      " 38  TotalBsmtSF    1460 non-null   int64  \n",
      " 39  Heating        1460 non-null   object \n",
      " 40  HeatingQC      1460 non-null   object \n",
      " 41  CentralAir     1460 non-null   object \n",
      " 42  Electrical     1459 non-null   object \n",
      " 43  1stFlrSF       1460 non-null   int64  \n",
      " 44  2ndFlrSF       1460 non-null   int64  \n",
      " 45  LowQualFinSF   1460 non-null   int64  \n",
      " 46  GrLivArea      1460 non-null   int64  \n",
      " 47  BsmtFullBath   1460 non-null   int64  \n",
      " 48  BsmtHalfBath   1460 non-null   int64  \n",
      " 49  FullBath       1460 non-null   int64  \n",
      " 50  HalfBath       1460 non-null   int64  \n",
      " 51  BedroomAbvGr   1460 non-null   int64  \n",
      " 52  KitchenAbvGr   1460 non-null   int64  \n",
      " 53  KitchenQual    1460 non-null   object \n",
      " 54  TotRmsAbvGrd   1460 non-null   int64  \n",
      " 55  Functional     1460 non-null   object \n",
      " 56  Fireplaces     1460 non-null   int64  \n",
      " 57  FireplaceQu    770 non-null    object \n",
      " 58  GarageType     1379 non-null   object \n",
      " 59  GarageYrBlt    1379 non-null   float64\n",
      " 60  GarageFinish   1379 non-null   object \n",
      " 61  GarageCars     1460 non-null   int64  \n",
      " 62  GarageArea     1460 non-null   int64  \n",
      " 63  GarageQual     1379 non-null   object \n",
      " 64  GarageCond     1379 non-null   object \n",
      " 65  PavedDrive     1460 non-null   object \n",
      " 66  WoodDeckSF     1460 non-null   int64  \n",
      " 67  OpenPorchSF    1460 non-null   int64  \n",
      " 68  EnclosedPorch  1460 non-null   int64  \n",
      " 69  3SsnPorch      1460 non-null   int64  \n",
      " 70  ScreenPorch    1460 non-null   int64  \n",
      " 71  PoolArea       1460 non-null   int64  \n",
      " 72  PoolQC         7 non-null      object \n",
      " 73  Fence          281 non-null    object \n",
      " 74  MiscFeature    54 non-null     object \n",
      " 75  MiscVal        1460 non-null   int64  \n",
      " 76  MoSold         1460 non-null   int64  \n",
      " 77  YrSold         1460 non-null   int64  \n",
      " 78  SaleType       1460 non-null   object \n",
      " 79  SaleCondition  1460 non-null   object \n",
      " 80  SalePrice      1460 non-null   int64  \n",
      "dtypes: float64(3), int64(35), object(43)\n",
      "memory usage: 924.0+ KB\n"
     ]
    }
   ],
   "source": [
    "train_df.info()"
   ]
  },
  {
   "cell_type": "code",
   "execution_count": 9,
   "id": "aa0de20c",
   "metadata": {
    "execution": {
     "iopub.execute_input": "2024-06-14T14:06:14.300313Z",
     "iopub.status.busy": "2024-06-14T14:06:14.299921Z",
     "iopub.status.idle": "2024-06-14T14:06:14.310000Z",
     "shell.execute_reply": "2024-06-14T14:06:14.308956Z"
    },
    "papermill": {
     "duration": 0.035651,
     "end_time": "2024-06-14T14:06:14.315812",
     "exception": false,
     "start_time": "2024-06-14T14:06:14.280161",
     "status": "completed"
    },
    "tags": []
   },
   "outputs": [
    {
     "name": "stdout",
     "output_type": "stream",
     "text": [
      "MSSubClass: Identifies the type of dwelling involved in the sale.\t\n",
      "\n",
      "        20\t1-STORY 1946 & NEWER ALL STYLES\n",
      "        30\t1-STORY 1945 & OLDER\n",
      "        40\t1-STORY W/FINISHED ATTIC ALL AGES\n",
      "        45\t1-1/2 STORY - UNFINISHED ALL AGES\n",
      "        50\t1-1/2 STORY FINISHED ALL AGES\n",
      "        60\t2-STORY 1946 & NEWER\n",
      "        70\t2-STORY 1945 & OLDER\n",
      "        75\t2-1/2 STORY ALL AGES\n",
      "        80\tSPLIT OR MULTI-LEVEL\n",
      "        85\tSPLIT FOYER\n",
      "        90\tDUPLEX - ALL STYLES AND AGES\n",
      "       120\t1-STORY PUD (Planned Unit Development) - 1946 & NEWER\n",
      "       150\t1-1/2 STORY PUD - ALL AGES\n",
      "       160\t2-STORY PUD - 1946 & NEWER\n",
      "       180\tPUD - MULTILEVEL - INCL SPLIT LEV/FOYER\n",
      "       190\t2 FAMILY CONVERSION - ALL STYLES AND AGES\n",
      "\n",
      "MSZoning: Identifies the general zoning classification of the sale.\n",
      "\t\t\n",
      "       A\tAgriculture\n",
      "       C\tCommercial\n",
      "       FV\tFloating Village Residential\n",
      "       I\tIndustrial\n",
      "       RH\tResidential High Density\n",
      "       RL\tResidential Low Density\n",
      "       RP\tResidential Low Density Park \n",
      "       RM\tResidential Medium Density\n",
      "\t\n",
      "LotFrontage: Linear feet of street connected to property\n",
      "\n",
      "LotArea: Lot size in square feet\n",
      "\n",
      "Street: Type of road access to property\n",
      "\n",
      "       Grvl\tGravel\t\n",
      "       Pave\tPaved\n",
      "       \t\n",
      "Alley: Type of alley access to property\n",
      "\n",
      "       Grvl\tGravel\n",
      "       Pave\tPaved\n",
      "       NA \tNo alley access\n",
      "\t\t\n",
      "LotShape: General shape of property\n",
      "\n",
      "       Reg\tRegular\t\n",
      "       IR1\tSlightly irregular\n",
      "       IR2\tModerately Irregular\n",
      "       IR3\tIrregular\n",
      "       \n",
      "LandContour: Flatness of the property\n",
      "\n",
      "       Lvl\tNear Flat/Level\t\n",
      "       Bnk\tBanked - Quick and significant rise from street grade to building\n",
      "       HLS\tHillside - Significant slope from side to side\n",
      "       Low\tDepression\n",
      "\t\t\n",
      "Utilities: Type of utilities available\n",
      "\t\t\n",
      "       AllPub\tAll public Utilities (E,G,W,& S)\t\n",
      "       NoSewr\tElectricity, Gas, and Water (Septic Tank)\n",
      "       NoSeWa\tElectricity and Gas Only\n",
      "       ELO\tElectricity only\t\n",
      "\t\n",
      "LotConfig: Lot configuration\n",
      "\n",
      "       Inside\tInside lot\n",
      "       Corner\tCorner lot\n",
      "       CulDSac\tCul-de-sac\n",
      "       FR2\tFrontage on 2 sides of property\n",
      "       FR3\tFrontage on 3 sides of property\n",
      "\t\n",
      "LandSlope: Slope of property\n",
      "\t\t\n",
      "       Gtl\tGentle slope\n",
      "       Mod\tModerate Slope\t\n",
      "       Sev\tSevere Slope\n",
      "\t\n",
      "Neighborhood: Physical locations within Ames city limits\n",
      "\n",
      "       Blmngtn\tBloomington Heights\n",
      "       Blueste\tBluestem\n",
      "       BrDale\tBriardale\n",
      "       BrkSide\tBrookside\n",
      "       ClearCr\tClear Creek\n",
      "       CollgCr\tCollege Creek\n",
      "       Crawfor\tCrawford\n",
      "       Edwards\tEdwards\n",
      "       Gilbert\tGilbert\n",
      "       IDOTRR\tIowa DOT and Rail Road\n",
      "       MeadowV\tMeadow Village\n",
      "       Mitchel\tMitchell\n",
      "       Names\tNorth Ames\n",
      "       NoRidge\tNorthridge\n",
      "       NPkVill\tNorthpark Villa\n",
      "       NridgHt\tNorthridge Heights\n",
      "       NWAmes\tNorthwest Ames\n",
      "       OldTown\tOld Town\n",
      "       SWISU\tSouth & West of Iowa State University\n",
      "       Sawyer\tSawyer\n",
      "       SawyerW\tSawyer West\n",
      "       Somerst\tSomerset\n",
      "       StoneBr\tStone Brook\n",
      "       Timber\tTimberland\n",
      "       Veenker\tVeenker\n",
      "\t\t\t\n",
      "Condition1: Proximity to various conditions\n",
      "\t\n",
      "       Artery\tAdjacent to arterial street\n",
      "       Feedr\tAdjacent to feeder street\t\n",
      "       Norm\tNormal\t\n",
      "       RRNn\tWithin 200' of North-South Railroad\n",
      "       RRAn\tAdjacent to North-South Railroad\n",
      "       PosN\tNear positive off-site feature--park, greenbelt, etc.\n",
      "       PosA\tAdjacent to postive off-site feature\n",
      "       RRNe\tWithin 200' of East-West Railroad\n",
      "       RRAe\tAdjacent to East-West Railroad\n",
      "\t\n",
      "Condition2: Proximity to various conditions (if more than one is present)\n",
      "\t\t\n",
      "       Artery\tAdjacent to arterial street\n",
      "       Feedr\tAdjacent to feeder street\t\n",
      "       Norm\tNormal\t\n",
      "       RRNn\tWithin 200' of North-South Railroad\n",
      "       RRAn\tAdjacent to North-South Railroad\n",
      "       PosN\tNear positive off-site feature--park, greenbelt, etc.\n",
      "       PosA\tAdjacent to postive off-site feature\n",
      "       RRNe\tWithin 200' of East-West Railroad\n",
      "       RRAe\tAdjacent to East-West Railroad\n",
      "\t\n",
      "BldgType: Type of dwelling\n",
      "\t\t\n",
      "       1Fam\tSingle-family Detached\t\n",
      "       2FmCon\tTwo-family Conversion; originally built as one-family dwelling\n",
      "       Duplx\tDuplex\n",
      "       TwnhsE\tTownhouse End Unit\n",
      "       TwnhsI\tTownhouse Inside Unit\n",
      "\t\n",
      "HouseStyle: Style of dwelling\n",
      "\t\n",
      "       1Story\tOne story\n",
      "       1.5Fin\tOne and one-half story: 2nd level finished\n",
      "       1.5Unf\tOne and one-half story: 2nd level unfinished\n",
      "       2Story\tTwo story\n",
      "       2.5Fin\tTwo and one-half story: 2nd level finished\n",
      "       2.5Unf\tTwo and one-half story: 2nd level unfinished\n",
      "       SFoyer\tSplit Foyer\n",
      "       SLvl\tSplit Level\n",
      "\t\n",
      "OverallQual: Rates the overall material and finish of the house\n",
      "\n",
      "       10\tVery Excellent\n",
      "       9\tExcellent\n",
      "       8\tVery Good\n",
      "       7\tGood\n",
      "       6\tAbove Average\n",
      "       5\tAverage\n",
      "       4\tBelow Average\n",
      "       3\tFair\n",
      "       2\tPoor\n",
      "       1\tVery Poor\n",
      "\t\n",
      "OverallCond: Rates the overall condition of the house\n",
      "\n",
      "       10\tVery Excellent\n",
      "       9\tExcellent\n",
      "       8\tVery Good\n",
      "       7\tGood\n",
      "       6\tAbove Average\t\n",
      "       5\tAverage\n",
      "       4\tBelow Average\t\n",
      "       3\tFair\n",
      "       2\tPoor\n",
      "       1\tVery Poor\n",
      "\t\t\n",
      "YearBuilt: Original construction date\n",
      "\n",
      "YearRemodAdd: Remodel date (same as construction date if no remodeling or additions)\n",
      "\n",
      "RoofStyle: Type of roof\n",
      "\n",
      "       Flat\tFlat\n",
      "       Gable\tGable\n",
      "       Gambrel\tGabrel (Barn)\n",
      "       Hip\tHip\n",
      "       Mansard\tMansard\n",
      "       Shed\tShed\n",
      "\t\t\n",
      "RoofMatl: Roof material\n",
      "\n",
      "       ClyTile\tClay or Tile\n",
      "       CompShg\tStandard (Composite) Shingle\n",
      "       Membran\tMembrane\n",
      "       Metal\tMetal\n",
      "       Roll\tRoll\n",
      "       Tar&Grv\tGravel & Tar\n",
      "       WdShake\tWood Shakes\n",
      "       WdShngl\tWood Shingles\n",
      "\t\t\n",
      "Exterior1st: Exterior covering on house\n",
      "\n",
      "       AsbShng\tAsbestos Shingles\n",
      "       AsphShn\tAsphalt Shingles\n",
      "       BrkComm\tBrick Common\n",
      "       BrkFace\tBrick Face\n",
      "       CBlock\tCinder Block\n",
      "       CemntBd\tCement Board\n",
      "       HdBoard\tHard Board\n",
      "       ImStucc\tImitation Stucco\n",
      "       MetalSd\tMetal Siding\n",
      "       Other\tOther\n",
      "       Plywood\tPlywood\n",
      "       PreCast\tPreCast\t\n",
      "       Stone\tStone\n",
      "       Stucco\tStucco\n",
      "       VinylSd\tVinyl Siding\n",
      "       Wd Sdng\tWood Siding\n",
      "       WdShing\tWood Shingles\n",
      "\t\n",
      "Exterior2nd: Exterior covering on house (if more than one material)\n",
      "\n",
      "       AsbShng\tAsbestos Shingles\n",
      "       AsphShn\tAsphalt Shingles\n",
      "       BrkComm\tBrick Common\n",
      "       BrkFace\tBrick Face\n",
      "       CBlock\tCinder Block\n",
      "       CemntBd\tCement Board\n",
      "       HdBoard\tHard Board\n",
      "       ImStucc\tImitation Stucco\n",
      "       MetalSd\tMetal Siding\n",
      "       Other\tOther\n",
      "       Plywood\tPlywood\n",
      "       PreCast\tPreCast\n",
      "       Stone\tStone\n",
      "       Stucco\tStucco\n",
      "       VinylSd\tVinyl Siding\n",
      "       Wd Sdng\tWood Siding\n",
      "       WdShing\tWood Shingles\n",
      "\t\n",
      "MasVnrType: Masonry veneer type\n",
      "\n",
      "       BrkCmn\tBrick Common\n",
      "       BrkFace\tBrick Face\n",
      "       CBlock\tCinder Block\n",
      "       None\tNone\n",
      "       Stone\tStone\n",
      "\t\n",
      "MasVnrArea: Masonry veneer area in square feet\n",
      "\n",
      "ExterQual: Evaluates the quality of the material on the exterior \n",
      "\t\t\n",
      "       Ex\tExcellent\n",
      "       Gd\tGood\n",
      "       TA\tAverage/Typical\n",
      "       Fa\tFair\n",
      "       Po\tPoor\n",
      "\t\t\n",
      "ExterCond: Evaluates the present condition of the material on the exterior\n",
      "\t\t\n",
      "       Ex\tExcellent\n",
      "       Gd\tGood\n",
      "       TA\tAverage/Typical\n",
      "       Fa\tFair\n",
      "       Po\tPoor\n",
      "\t\t\n",
      "Foundation: Type of foundation\n",
      "\t\t\n",
      "       BrkTil\tBrick & Tile\n",
      "       CBlock\tCinder Block\n",
      "       PConc\tPoured Contrete\t\n",
      "       Slab\tSlab\n",
      "       Stone\tStone\n",
      "       Wood\tWood\n",
      "\t\t\n",
      "BsmtQual: Evaluates the height of the basement\n",
      "\n",
      "       Ex\tExcellent (100+ inches)\t\n",
      "       Gd\tGood (90-99 inches)\n",
      "       TA\tTypical (80-89 inches)\n",
      "       Fa\tFair (70-79 inches)\n",
      "       Po\tPoor (<70 inches\n",
      "       NA\tNo Basement\n",
      "\t\t\n",
      "BsmtCond: Evaluates the general condition of the basement\n",
      "\n",
      "       Ex\tExcellent\n",
      "       Gd\tGood\n",
      "       TA\tTypical - slight dampness allowed\n",
      "       Fa\tFair - dampness or some cracking or settling\n",
      "       Po\tPoor - Severe cracking, settling, or wetness\n",
      "       NA\tNo Basement\n",
      "\t\n",
      "BsmtExposure: Refers to walkout or garden level walls\n",
      "\n",
      "       Gd\tGood Exposure\n",
      "       Av\tAverage Exposure (split levels or foyers typically score average or above)\t\n",
      "       Mn\tMimimum Exposure\n",
      "       No\tNo Exposure\n",
      "       NA\tNo Basement\n",
      "\t\n",
      "BsmtFinType1: Rating of basement finished area\n",
      "\n",
      "       GLQ\tGood Living Quarters\n",
      "       ALQ\tAverage Living Quarters\n",
      "       BLQ\tBelow Average Living Quarters\t\n",
      "       Rec\tAverage Rec Room\n",
      "       LwQ\tLow Quality\n",
      "       Unf\tUnfinshed\n",
      "       NA\tNo Basement\n",
      "\t\t\n",
      "BsmtFinSF1: Type 1 finished square feet\n",
      "\n",
      "BsmtFinType2: Rating of basement finished area (if multiple types)\n",
      "\n",
      "       GLQ\tGood Living Quarters\n",
      "       ALQ\tAverage Living Quarters\n",
      "       BLQ\tBelow Average Living Quarters\t\n",
      "       Rec\tAverage Rec Room\n",
      "       LwQ\tLow Quality\n",
      "       Unf\tUnfinshed\n",
      "       NA\tNo Basement\n",
      "\n",
      "BsmtFinSF2: Type 2 finished square feet\n",
      "\n",
      "BsmtUnfSF: Unfinished square feet of basement area\n",
      "\n",
      "TotalBsmtSF: Total square feet of basement area\n",
      "\n",
      "Heating: Type of heating\n",
      "\t\t\n",
      "       Floor\tFloor Furnace\n",
      "       GasA\tGas forced warm air furnace\n",
      "       GasW\tGas hot water or steam heat\n",
      "       Grav\tGravity furnace\t\n",
      "       OthW\tHot water or steam heat other than gas\n",
      "       Wall\tWall furnace\n",
      "\t\t\n",
      "HeatingQC: Heating quality and condition\n",
      "\n",
      "       Ex\tExcellent\n",
      "       Gd\tGood\n",
      "       TA\tAverage/Typical\n",
      "       Fa\tFair\n",
      "       Po\tPoor\n",
      "\t\t\n",
      "CentralAir: Central air conditioning\n",
      "\n",
      "       N\tNo\n",
      "       Y\tYes\n",
      "\t\t\n",
      "Electrical: Electrical system\n",
      "\n",
      "       SBrkr\tStandard Circuit Breakers & Romex\n",
      "       FuseA\tFuse Box over 60 AMP and all Romex wiring (Average)\t\n",
      "       FuseF\t60 AMP Fuse Box and mostly Romex wiring (Fair)\n",
      "       FuseP\t60 AMP Fuse Box and mostly knob & tube wiring (poor)\n",
      "       Mix\tMixed\n",
      "\t\t\n",
      "1stFlrSF: First Floor square feet\n",
      " \n",
      "2ndFlrSF: Second floor square feet\n",
      "\n",
      "LowQualFinSF: Low quality finished square feet (all floors)\n",
      "\n",
      "GrLivArea: Above grade (ground) living area square feet\n",
      "\n",
      "BsmtFullBath: Basement full bathrooms\n",
      "\n",
      "BsmtHalfBath: Basement half bathrooms\n",
      "\n",
      "FullBath: Full bathrooms above grade\n",
      "\n",
      "HalfBath: Half baths above grade\n",
      "\n",
      "Bedroom: Bedrooms above grade (does NOT include basement bedrooms)\n",
      "\n",
      "Kitchen: Kitchens above grade\n",
      "\n",
      "KitchenQual: Kitchen quality\n",
      "\n",
      "       Ex\tExcellent\n",
      "       Gd\tGood\n",
      "       TA\tTypical/Average\n",
      "       Fa\tFair\n",
      "       Po\tPoor\n",
      "       \t\n",
      "TotRmsAbvGrd: Total rooms above grade (does not include bathrooms)\n",
      "\n",
      "Functional: Home functionality (Assume typical unless deductions are warranted)\n",
      "\n",
      "       Typ\tTypical Functionality\n",
      "       Min1\tMinor Deductions 1\n",
      "       Min2\tMinor Deductions 2\n",
      "       Mod\tModerate Deductions\n",
      "       Maj1\tMajor Deductions 1\n",
      "       Maj2\tMajor Deductions 2\n",
      "       Sev\tSeverely Damaged\n",
      "       Sal\tSalvage only\n",
      "\t\t\n",
      "Fireplaces: Number of fireplaces\n",
      "\n",
      "FireplaceQu: Fireplace quality\n",
      "\n",
      "       Ex\tExcellent - Exceptional Masonry Fireplace\n",
      "       Gd\tGood - Masonry Fireplace in main level\n",
      "       TA\tAverage - Prefabricated Fireplace in main living area or Masonry Fireplace in basement\n",
      "       Fa\tFair - Prefabricated Fireplace in basement\n",
      "       Po\tPoor - Ben Franklin Stove\n",
      "       NA\tNo Fireplace\n",
      "\t\t\n",
      "GarageType: Garage location\n",
      "\t\t\n",
      "       2Types\tMore than one type of garage\n",
      "       Attchd\tAttached to home\n",
      "       Basment\tBasement Garage\n",
      "       BuiltIn\tBuilt-In (Garage part of house - typically has room above garage)\n",
      "       CarPort\tCar Port\n",
      "       Detchd\tDetached from home\n",
      "       NA\tNo Garage\n",
      "\t\t\n",
      "GarageYrBlt: Year garage was built\n",
      "\t\t\n",
      "GarageFinish: Interior finish of the garage\n",
      "\n",
      "       Fin\tFinished\n",
      "       RFn\tRough Finished\t\n",
      "       Unf\tUnfinished\n",
      "       NA\tNo Garage\n",
      "\t\t\n",
      "GarageCars: Size of garage in car capacity\n",
      "\n",
      "GarageArea: Size of garage in square feet\n",
      "\n",
      "GarageQual: Garage quality\n",
      "\n",
      "       Ex\tExcellent\n",
      "       Gd\tGood\n",
      "       TA\tTypical/Average\n",
      "       Fa\tFair\n",
      "       Po\tPoor\n",
      "       NA\tNo Garage\n",
      "\t\t\n",
      "GarageCond: Garage condition\n",
      "\n",
      "       Ex\tExcellent\n",
      "       Gd\tGood\n",
      "       TA\tTypical/Average\n",
      "       Fa\tFair\n",
      "       Po\tPoor\n",
      "       NA\tNo Garage\n",
      "\t\t\n",
      "PavedDrive: Paved driveway\n",
      "\n",
      "       Y\tPaved \n",
      "       P\tPartial Pavement\n",
      "       N\tDirt/Gravel\n",
      "\t\t\n",
      "WoodDeckSF: Wood deck area in square feet\n",
      "\n",
      "OpenPorchSF: Open porch area in square feet\n",
      "\n",
      "EnclosedPorch: Enclosed porch area in square feet\n",
      "\n",
      "3SsnPorch: Three season porch area in square feet\n",
      "\n",
      "ScreenPorch: Screen porch area in square feet\n",
      "\n",
      "PoolArea: Pool area in square feet\n",
      "\n",
      "PoolQC: Pool quality\n",
      "\t\t\n",
      "       Ex\tExcellent\n",
      "       Gd\tGood\n",
      "       TA\tAverage/Typical\n",
      "       Fa\tFair\n",
      "       NA\tNo Pool\n",
      "\t\t\n",
      "Fence: Fence quality\n",
      "\t\t\n",
      "       GdPrv\tGood Privacy\n",
      "       MnPrv\tMinimum Privacy\n",
      "       GdWo\tGood Wood\n",
      "       MnWw\tMinimum Wood/Wire\n",
      "       NA\tNo Fence\n",
      "\t\n",
      "MiscFeature: Miscellaneous feature not covered in other categories\n",
      "\t\t\n",
      "       Elev\tElevator\n",
      "       Gar2\t2nd Garage (if not described in garage section)\n",
      "       Othr\tOther\n",
      "       Shed\tShed (over 100 SF)\n",
      "       TenC\tTennis Court\n",
      "       NA\tNone\n",
      "\t\t\n",
      "MiscVal: $Value of miscellaneous feature\n",
      "\n",
      "MoSold: Month Sold (MM)\n",
      "\n",
      "YrSold: Year Sold (YYYY)\n",
      "\n",
      "SaleType: Type of sale\n",
      "\t\t\n",
      "       WD \tWarranty Deed - Conventional\n",
      "       CWD\tWarranty Deed - Cash\n",
      "       VWD\tWarranty Deed - VA Loan\n",
      "       New\tHome just constructed and sold\n",
      "       COD\tCourt Officer Deed/Estate\n",
      "       Con\tContract 15% Down payment regular terms\n",
      "       ConLw\tContract Low Down payment and low interest\n",
      "       ConLI\tContract Low Interest\n",
      "       ConLD\tContract Low Down\n",
      "       Oth\tOther\n",
      "\t\t\n",
      "SaleCondition: Condition of sale\n",
      "\n",
      "       Normal\tNormal Sale\n",
      "       Abnorml\tAbnormal Sale -  trade, foreclosure, short sale\n",
      "       AdjLand\tAdjoining Land Purchase\n",
      "       Alloca\tAllocation - two linked properties with separate deeds, typically condo with a garage unit\t\n",
      "       Family\tSale between family members\n",
      "       Partial\tHome was not completed when last assessed (associated with New Homes)\n",
      "\n"
     ]
    }
   ],
   "source": [
    "with open('/kaggle/input/house-prices-advanced-regression-techniques/data_description.txt','r') as f:\n",
    "    print(f.read())"
   ]
  },
  {
   "cell_type": "markdown",
   "id": "74526b0d",
   "metadata": {
    "papermill": {
     "duration": 0.018736,
     "end_time": "2024-06-14T14:06:14.354127",
     "exception": false,
     "start_time": "2024-06-14T14:06:14.335391",
     "status": "completed"
    },
    "tags": []
   },
   "source": [
    "# Distribution of target value"
   ]
  },
  {
   "cell_type": "code",
   "execution_count": 10,
   "id": "9a6d3cbb",
   "metadata": {
    "execution": {
     "iopub.execute_input": "2024-06-14T14:06:14.393987Z",
     "iopub.status.busy": "2024-06-14T14:06:14.393314Z",
     "iopub.status.idle": "2024-06-14T14:06:14.959097Z",
     "shell.execute_reply": "2024-06-14T14:06:14.957867Z"
    },
    "papermill": {
     "duration": 0.589261,
     "end_time": "2024-06-14T14:06:14.962295",
     "exception": false,
     "start_time": "2024-06-14T14:06:14.373034",
     "status": "completed"
    },
    "tags": []
   },
   "outputs": [
    {
     "data": {
      "text/plain": [
       "Text(0.5, 1.0, 'Histplot for SalePrice')"
      ]
     },
     "execution_count": 10,
     "metadata": {},
     "output_type": "execute_result"
    },
    {
     "data": {
      "image/png": "[encoded data removed]",
      "text/plain": [
       "<Figure size 1200x800 with 1 Axes>"
      ]
     },
     "metadata": {},
     "output_type": "display_data"
    }
   ],
   "source": [
    "sale_price = train_df['SalePrice']\n",
    "plt.figure(figsize=(12,8), dpi=100)\n",
    "sns.histplot(sale_price, color='green', kde=True)\n",
    "plt.title('Histplot for SalePrice')"
   ]
  },
  {
   "cell_type": "code",
   "execution_count": 11,
   "id": "50eb0a4b",
   "metadata": {
    "execution": {
     "iopub.execute_input": "2024-06-14T14:06:15.070543Z",
     "iopub.status.busy": "2024-06-14T14:06:15.070133Z",
     "iopub.status.idle": "2024-06-14T14:06:15.321415Z",
     "shell.execute_reply": "2024-06-14T14:06:15.320150Z"
    },
    "papermill": {
     "duration": 0.276329,
     "end_time": "2024-06-14T14:06:15.324008",
     "exception": false,
     "start_time": "2024-06-14T14:06:15.047679",
     "status": "completed"
    },
    "tags": []
   },
   "outputs": [
    {
     "data": {
      "text/plain": [
       "<Axes: ylabel='SalePrice'>"
      ]
     },
     "execution_count": 11,
     "metadata": {},
     "output_type": "execute_result"
    },
    {
     "data": {
      "image/png": "[encoded data removed]",
      "text/plain": [
       "<Figure size 1200x800 with 1 Axes>"
      ]
     },
     "metadata": {},
     "output_type": "display_data"
    }
   ],
   "source": [
    "plt.figure(figsize=(12,8), dpi=100)\n",
    "sns.boxplot(y=sale_price, color='purple')"
   ]
  },
  {
   "cell_type": "markdown",
   "id": "dfb0ae97",
   "metadata": {
    "papermill": {
     "duration": 0.020297,
     "end_time": "2024-06-14T14:06:15.364956",
     "exception": false,
     "start_time": "2024-06-14T14:06:15.344659",
     "status": "completed"
    },
    "tags": []
   },
   "source": [
    "# Vizualization and working with missing values for train_df "
   ]
  },
  {
   "cell_type": "code",
   "execution_count": 12,
   "id": "7277b018",
   "metadata": {
    "execution": {
     "iopub.execute_input": "2024-06-14T14:06:15.409169Z",
     "iopub.status.busy": "2024-06-14T14:06:15.408763Z",
     "iopub.status.idle": "2024-06-14T14:06:15.416665Z",
     "shell.execute_reply": "2024-06-14T14:06:15.415675Z"
    },
    "papermill": {
     "duration": 0.033386,
     "end_time": "2024-06-14T14:06:15.419360",
     "exception": false,
     "start_time": "2024-06-14T14:06:15.385974",
     "status": "completed"
    },
    "tags": []
   },
   "outputs": [],
   "source": [
    "# Function to check missing values in every stage\n",
    "def count_missing_values(df):\n",
    "    missing_values = df.isna().sum().to_frame()\n",
    "    missing_values = missing_values[missing_values > 0].dropna()\n",
    "    missing_values[0] = (100 * missing_values[0]) / len(train_df) # counting percents\n",
    "    missing_values = missing_values.reset_index().sort_values(by=0)\n",
    "    return missing_values"
   ]
  },
  {
   "cell_type": "code",
   "execution_count": 13,
   "id": "6499207d",
   "metadata": {
    "execution": {
     "iopub.execute_input": "2024-06-14T14:06:15.463963Z",
     "iopub.status.busy": "2024-06-14T14:06:15.463593Z",
     "iopub.status.idle": "2024-06-14T14:06:16.050948Z",
     "shell.execute_reply": "2024-06-14T14:06:16.048131Z"
    },
    "papermill": {
     "duration": 0.616785,
     "end_time": "2024-06-14T14:06:16.057670",
     "exception": false,
     "start_time": "2024-06-14T14:06:15.440885",
     "status": "completed"
    },
    "tags": []
   },
   "outputs": [
    {
     "data": {
      "image/png": "[encoded data removed]",
      "text/plain": [
       "<Figure size 1200x800 with 1 Axes>"
      ]
     },
     "metadata": {},
     "output_type": "display_data"
    }
   ],
   "source": [
    "missing_values = count_missing_values(train_df)\n",
    "plt.figure(figsize=(12,8))\n",
    "sns.barplot(x=missing_values['index'], y=missing_values[0])\n",
    "plt.title('Percents of missing values in train_df')\n",
    "plt.xlabel('Features')\n",
    "plt.ylabel('Percents')\n",
    "plt.xticks(rotation=90)\n",
    "plt.tight_layout()"
   ]
  },
  {
   "cell_type": "markdown",
   "id": "f38fe62f",
   "metadata": {
    "papermill": {
     "duration": 0.027887,
     "end_time": "2024-06-14T14:06:16.118728",
     "exception": false,
     "start_time": "2024-06-14T14:06:16.090841",
     "status": "completed"
    },
    "tags": []
   },
   "source": [
    "I'm deleting columns either with too big missing percent or too small percent"
   ]
  },
  {
   "cell_type": "code",
   "execution_count": 14,
   "id": "8675c244",
   "metadata": {
    "execution": {
     "iopub.execute_input": "2024-06-14T14:06:16.163392Z",
     "iopub.status.busy": "2024-06-14T14:06:16.162971Z",
     "iopub.status.idle": "2024-06-14T14:06:16.175107Z",
     "shell.execute_reply": "2024-06-14T14:06:16.173961Z"
    },
    "papermill": {
     "duration": 0.037328,
     "end_time": "2024-06-14T14:06:16.177616",
     "exception": false,
     "start_time": "2024-06-14T14:06:16.140288",
     "status": "completed"
    },
    "tags": []
   },
   "outputs": [
    {
     "data": {
      "text/plain": [
       "0"
      ]
     },
     "execution_count": 14,
     "metadata": {},
     "output_type": "execute_result"
    }
   ],
   "source": [
    "train_df.dropna(subset = 'Electrical', inplace = True)\n",
    "train_df['Electrical'].isna().sum()"
   ]
  },
  {
   "cell_type": "code",
   "execution_count": 15,
   "id": "c3d37494",
   "metadata": {
    "execution": {
     "iopub.execute_input": "2024-06-14T14:06:16.225126Z",
     "iopub.status.busy": "2024-06-14T14:06:16.224013Z",
     "iopub.status.idle": "2024-06-14T14:06:16.234242Z",
     "shell.execute_reply": "2024-06-14T14:06:16.233082Z"
    },
    "papermill": {
     "duration": 0.037305,
     "end_time": "2024-06-14T14:06:16.237831",
     "exception": false,
     "start_time": "2024-06-14T14:06:16.200526",
     "status": "completed"
    },
    "tags": []
   },
   "outputs": [
    {
     "data": {
      "text/plain": [
       "77"
      ]
     },
     "execution_count": 15,
     "metadata": {},
     "output_type": "execute_result"
    }
   ],
   "source": [
    "train_df.drop(columns = ['Fence', 'Alley', 'MiscFeature', 'PoolQC'], axis = 1, inplace = True)\n",
    "len(train_df.columns)"
   ]
  },
  {
   "cell_type": "code",
   "execution_count": 16,
   "id": "02bfdb7e",
   "metadata": {
    "execution": {
     "iopub.execute_input": "2024-06-14T14:06:16.292777Z",
     "iopub.status.busy": "2024-06-14T14:06:16.291555Z",
     "iopub.status.idle": "2024-06-14T14:06:16.721914Z",
     "shell.execute_reply": "2024-06-14T14:06:16.720629Z"
    },
    "papermill": {
     "duration": 0.458053,
     "end_time": "2024-06-14T14:06:16.724699",
     "exception": false,
     "start_time": "2024-06-14T14:06:16.266646",
     "status": "completed"
    },
    "tags": []
   },
   "outputs": [
    {
     "data": {
      "image/png": "[encoded data removed]",
      "text/plain": [
       "<Figure size 1200x800 with 1 Axes>"
      ]
     },
     "metadata": {},
     "output_type": "display_data"
    }
   ],
   "source": [
    "missing_values = count_missing_values(train_df)\n",
    "plt.figure(figsize=(12,8))\n",
    "sns.barplot(x=missing_values['index'], y=missing_values[0])\n",
    "plt.title('Percents of missing values in train_df')\n",
    "plt.xlabel('Features')\n",
    "plt.ylabel('Percents')\n",
    "plt.ylim(0, 1)\n",
    "plt.xticks(rotation=90)\n",
    "plt.tight_layout()"
   ]
  },
  {
   "cell_type": "code",
   "execution_count": 17,
   "id": "90843294",
   "metadata": {
    "execution": {
     "iopub.execute_input": "2024-06-14T14:06:16.771507Z",
     "iopub.status.busy": "2024-06-14T14:06:16.771089Z",
     "iopub.status.idle": "2024-06-14T14:06:16.780126Z",
     "shell.execute_reply": "2024-06-14T14:06:16.779041Z"
    },
    "papermill": {
     "duration": 0.035075,
     "end_time": "2024-06-14T14:06:16.782563",
     "exception": false,
     "start_time": "2024-06-14T14:06:16.747488",
     "status": "completed"
    },
    "tags": []
   },
   "outputs": [
    {
     "data": {
      "text/plain": [
       "0"
      ]
     },
     "execution_count": 17,
     "metadata": {},
     "output_type": "execute_result"
    }
   ],
   "source": [
    "train_df['MasVnrArea'] = train_df['MasVnrArea'].fillna(train_df['MasVnrArea'].mean())\n",
    "train_df['MasVnrArea'].isnull().sum()"
   ]
  },
  {
   "cell_type": "code",
   "execution_count": 18,
   "id": "6ae55624",
   "metadata": {
    "execution": {
     "iopub.execute_input": "2024-06-14T14:06:16.831130Z",
     "iopub.status.busy": "2024-06-14T14:06:16.830019Z",
     "iopub.status.idle": "2024-06-14T14:06:17.317151Z",
     "shell.execute_reply": "2024-06-14T14:06:17.315896Z"
    },
    "papermill": {
     "duration": 0.514203,
     "end_time": "2024-06-14T14:06:17.319660",
     "exception": false,
     "start_time": "2024-06-14T14:06:16.805457",
     "status": "completed"
    },
    "tags": []
   },
   "outputs": [
    {
     "data": {
      "image/png": "[encoded data removed]",
      "text/plain": [
       "<Figure size 1200x800 with 1 Axes>"
      ]
     },
     "metadata": {},
     "output_type": "display_data"
    }
   ],
   "source": [
    "missing_values = count_missing_values(train_df)\n",
    "plt.figure(figsize=(12,8))\n",
    "sns.barplot(x=missing_values['index'], y=missing_values[0])\n",
    "plt.title('Percents of missing values in train_df')\n",
    "plt.xlabel('Features')\n",
    "plt.ylabel('Percents')\n",
    "plt.xticks(rotation=90)\n",
    "plt.tight_layout()"
   ]
  },
  {
   "cell_type": "code",
   "execution_count": 19,
   "id": "f5dd2075",
   "metadata": {
    "execution": {
     "iopub.execute_input": "2024-06-14T14:06:17.369448Z",
     "iopub.status.busy": "2024-06-14T14:06:17.369010Z",
     "iopub.status.idle": "2024-06-14T14:06:17.380542Z",
     "shell.execute_reply": "2024-06-14T14:06:17.379564Z"
    },
    "papermill": {
     "duration": 0.040278,
     "end_time": "2024-06-14T14:06:17.383175",
     "exception": false,
     "start_time": "2024-06-14T14:06:17.342897",
     "status": "completed"
    },
    "tags": []
   },
   "outputs": [],
   "source": [
    "basement_columns = ['BsmtQual', 'BsmtCond', 'BsmtExposure', 'BsmtFinType1', 'BsmtFinType2', 'GarageType', 'GarageYrBlt', 'GarageFinish', 'GarageQual', 'GarageCond']\n",
    "train_df[basement_columns] = train_df[basement_columns].fillna(value='None')"
   ]
  },
  {
   "cell_type": "code",
   "execution_count": 20,
   "id": "18e2e39a",
   "metadata": {
    "execution": {
     "iopub.execute_input": "2024-06-14T14:06:17.432728Z",
     "iopub.status.busy": "2024-06-14T14:06:17.431853Z",
     "iopub.status.idle": "2024-06-14T14:06:17.803608Z",
     "shell.execute_reply": "2024-06-14T14:06:17.802411Z"
    },
    "papermill": {
     "duration": 0.39958,
     "end_time": "2024-06-14T14:06:17.806153",
     "exception": false,
     "start_time": "2024-06-14T14:06:17.406573",
     "status": "completed"
    },
    "tags": []
   },
   "outputs": [
    {
     "data": {
      "image/png": "[encoded data removed]",
      "text/plain": [
       "<Figure size 1200x800 with 1 Axes>"
      ]
     },
     "metadata": {},
     "output_type": "display_data"
    }
   ],
   "source": [
    "missing_values = count_missing_values(train_df)\n",
    "plt.figure(figsize=(12,8))\n",
    "sns.barplot(x=missing_values['index'], y=missing_values[0])\n",
    "plt.title('Percents of missing values in train_df')\n",
    "plt.xlabel('Features')\n",
    "plt.ylabel('Percents')\n",
    "plt.xticks(rotation=90)\n",
    "plt.tight_layout()"
   ]
  },
  {
   "cell_type": "code",
   "execution_count": 21,
   "id": "bef5325c",
   "metadata": {
    "execution": {
     "iopub.execute_input": "2024-06-14T14:06:17.855434Z",
     "iopub.status.busy": "2024-06-14T14:06:17.854999Z",
     "iopub.status.idle": "2024-06-14T14:06:17.864562Z",
     "shell.execute_reply": "2024-06-14T14:06:17.863522Z"
    },
    "papermill": {
     "duration": 0.036796,
     "end_time": "2024-06-14T14:06:17.866835",
     "exception": false,
     "start_time": "2024-06-14T14:06:17.830039",
     "status": "completed"
    },
    "tags": []
   },
   "outputs": [
    {
     "data": {
      "text/plain": [
       "0"
      ]
     },
     "execution_count": 21,
     "metadata": {},
     "output_type": "execute_result"
    }
   ],
   "source": [
    "train_df['MasVnrType'] = train_df['MasVnrType'].fillna('None')\n",
    "train_df['MasVnrType'].isnull().sum()"
   ]
  },
  {
   "cell_type": "code",
   "execution_count": 22,
   "id": "1e86e84a",
   "metadata": {
    "execution": {
     "iopub.execute_input": "2024-06-14T14:06:17.917656Z",
     "iopub.status.busy": "2024-06-14T14:06:17.917258Z",
     "iopub.status.idle": "2024-06-14T14:06:17.926302Z",
     "shell.execute_reply": "2024-06-14T14:06:17.925318Z"
    },
    "papermill": {
     "duration": 0.037726,
     "end_time": "2024-06-14T14:06:17.928724",
     "exception": false,
     "start_time": "2024-06-14T14:06:17.890998",
     "status": "completed"
    },
    "tags": []
   },
   "outputs": [
    {
     "data": {
      "text/plain": [
       "0"
      ]
     },
     "execution_count": 22,
     "metadata": {},
     "output_type": "execute_result"
    }
   ],
   "source": [
    "train_df['FireplaceQu'] = train_df['FireplaceQu'].fillna('None')\n",
    "train_df['FireplaceQu'].isnull().sum()"
   ]
  },
  {
   "cell_type": "code",
   "execution_count": 23,
   "id": "b5dbc844",
   "metadata": {
    "execution": {
     "iopub.execute_input": "2024-06-14T14:06:17.980048Z",
     "iopub.status.busy": "2024-06-14T14:06:17.979655Z",
     "iopub.status.idle": "2024-06-14T14:06:18.307840Z",
     "shell.execute_reply": "2024-06-14T14:06:18.306492Z"
    },
    "papermill": {
     "duration": 0.356315,
     "end_time": "2024-06-14T14:06:18.310624",
     "exception": false,
     "start_time": "2024-06-14T14:06:17.954309",
     "status": "completed"
    },
    "tags": []
   },
   "outputs": [
    {
     "data": {
      "image/png": "[encoded data removed]",
      "text/plain": [
       "<Figure size 1200x800 with 1 Axes>"
      ]
     },
     "metadata": {},
     "output_type": "display_data"
    }
   ],
   "source": [
    "missing_values = count_missing_values(train_df)\n",
    "plt.figure(figsize=(12,8))\n",
    "sns.barplot(x=missing_values['index'], y=missing_values[0])\n",
    "plt.title('Percents of missing values in train_df')\n",
    "plt.xlabel('Features')\n",
    "plt.ylabel('Percents')\n",
    "plt.xticks(rotation=90)\n",
    "plt.ylim(0, 100)\n",
    "plt.tight_layout()"
   ]
  },
  {
   "cell_type": "code",
   "execution_count": 24,
   "id": "a387c636",
   "metadata": {
    "execution": {
     "iopub.execute_input": "2024-06-14T14:06:18.361324Z",
     "iopub.status.busy": "2024-06-14T14:06:18.360549Z",
     "iopub.status.idle": "2024-06-14T14:06:18.382268Z",
     "shell.execute_reply": "2024-06-14T14:06:18.381135Z"
    },
    "papermill": {
     "duration": 0.049985,
     "end_time": "2024-06-14T14:06:18.384857",
     "exception": false,
     "start_time": "2024-06-14T14:06:18.334872",
     "status": "completed"
    },
    "tags": []
   },
   "outputs": [
    {
     "data": {
      "text/plain": [
       "0"
      ]
     },
     "execution_count": 24,
     "metadata": {},
     "output_type": "execute_result"
    }
   ],
   "source": [
    "train_df['LotFrontage'] = train_df.groupby('Neighborhood')['LotFrontage'].transform(lambda x: x.fillna(x.mean()))\n",
    "train_df['LotFrontage'].isnull().sum()"
   ]
  },
  {
   "cell_type": "code",
   "execution_count": 25,
   "id": "affa3de8",
   "metadata": {
    "execution": {
     "iopub.execute_input": "2024-06-14T14:06:18.436959Z",
     "iopub.status.busy": "2024-06-14T14:06:18.436562Z",
     "iopub.status.idle": "2024-06-14T14:06:18.454932Z",
     "shell.execute_reply": "2024-06-14T14:06:18.453872Z"
    },
    "papermill": {
     "duration": 0.048067,
     "end_time": "2024-06-14T14:06:18.457476",
     "exception": false,
     "start_time": "2024-06-14T14:06:18.409409",
     "status": "completed"
    },
    "tags": []
   },
   "outputs": [
    {
     "data": {
      "text/html": [
       "<div>\n",
       "<style scoped>\n",
       "    .dataframe tbody tr th:only-of-type {\n",
       "        vertical-align: middle;\n",
       "    }\n",
       "\n",
       "    .dataframe tbody tr th {\n",
       "        vertical-align: top;\n",
       "    }\n",
       "\n",
       "    .dataframe thead th {\n",
       "        text-align: right;\n",
       "    }\n",
       "</style>\n",
       "<table border=\"1\" class=\"dataframe\">\n",
       "  <thead>\n",
       "    <tr style=\"text-align: right;\">\n",
       "      <th></th>\n",
       "      <th>index</th>\n",
       "      <th>0</th>\n",
       "    </tr>\n",
       "  </thead>\n",
       "  <tbody>\n",
       "  </tbody>\n",
       "</table>\n",
       "</div>"
      ],
      "text/plain": [
       "Empty DataFrame\n",
       "Columns: [index, 0]\n",
       "Index: []"
      ]
     },
     "execution_count": 25,
     "metadata": {},
     "output_type": "execute_result"
    }
   ],
   "source": [
    "count_missing_values(train_df)"
   ]
  },
  {
   "cell_type": "code",
   "execution_count": 26,
   "id": "2233818c",
   "metadata": {
    "execution": {
     "iopub.execute_input": "2024-06-14T14:06:18.509141Z",
     "iopub.status.busy": "2024-06-14T14:06:18.508739Z",
     "iopub.status.idle": "2024-06-14T14:06:18.517294Z",
     "shell.execute_reply": "2024-06-14T14:06:18.516251Z"
    },
    "papermill": {
     "duration": 0.037656,
     "end_time": "2024-06-14T14:06:18.519697",
     "exception": false,
     "start_time": "2024-06-14T14:06:18.482041",
     "status": "completed"
    },
    "tags": []
   },
   "outputs": [],
   "source": [
    "# We don't need a column with an id\n",
    "train_df.drop('Id', axis = 1, inplace=True)"
   ]
  },
  {
   "cell_type": "markdown",
   "id": "400ea69f",
   "metadata": {
    "papermill": {
     "duration": 0.024576,
     "end_time": "2024-06-14T14:06:18.569218",
     "exception": false,
     "start_time": "2024-06-14T14:06:18.544642",
     "status": "completed"
    },
    "tags": []
   },
   "source": [
    "# Vizualization and working with missing values for test_df "
   ]
  },
  {
   "cell_type": "code",
   "execution_count": 27,
   "id": "d493d99f",
   "metadata": {
    "execution": {
     "iopub.execute_input": "2024-06-14T14:06:18.621783Z",
     "iopub.status.busy": "2024-06-14T14:06:18.621373Z",
     "iopub.status.idle": "2024-06-14T14:06:19.309419Z",
     "shell.execute_reply": "2024-06-14T14:06:19.308369Z"
    },
    "papermill": {
     "duration": 0.716793,
     "end_time": "2024-06-14T14:06:19.311778",
     "exception": false,
     "start_time": "2024-06-14T14:06:18.594985",
     "status": "completed"
    },
    "tags": []
   },
   "outputs": [
    {
     "data": {
      "image/png": "[encoded data removed]",
      "text/plain": [
       "<Figure size 1200x800 with 1 Axes>"
      ]
     },
     "metadata": {},
     "output_type": "display_data"
    }
   ],
   "source": [
    "missing_values = count_missing_values(test_df)\n",
    "plt.figure(figsize=(12,8))\n",
    "sns.barplot(x=missing_values['index'], y=missing_values[0])\n",
    "plt.title('Percents of missing values in test_df')\n",
    "plt.xlabel('Features')\n",
    "plt.ylabel('Percents')\n",
    "plt.xticks(rotation=90)\n",
    "plt.tight_layout()"
   ]
  },
  {
   "cell_type": "markdown",
   "id": "5426d1e1",
   "metadata": {
    "papermill": {
     "duration": 0.025831,
     "end_time": "2024-06-14T14:06:19.363163",
     "exception": false,
     "start_time": "2024-06-14T14:06:19.337332",
     "status": "completed"
    },
    "tags": []
   },
   "source": [
    "We carry out the same transformations as in the train_df"
   ]
  },
  {
   "cell_type": "code",
   "execution_count": 28,
   "id": "17eea05c",
   "metadata": {
    "execution": {
     "iopub.execute_input": "2024-06-14T14:06:19.416100Z",
     "iopub.status.busy": "2024-06-14T14:06:19.415696Z",
     "iopub.status.idle": "2024-06-14T14:06:19.425999Z",
     "shell.execute_reply": "2024-06-14T14:06:19.424919Z"
    },
    "papermill": {
     "duration": 0.039578,
     "end_time": "2024-06-14T14:06:19.428257",
     "exception": false,
     "start_time": "2024-06-14T14:06:19.388679",
     "status": "completed"
    },
    "tags": []
   },
   "outputs": [
    {
     "data": {
      "text/plain": [
       "0"
      ]
     },
     "execution_count": 28,
     "metadata": {},
     "output_type": "execute_result"
    }
   ],
   "source": [
    "test_df.dropna(subset = 'Electrical', inplace = True)\n",
    "test_df['Electrical'].isna().sum()"
   ]
  },
  {
   "cell_type": "code",
   "execution_count": 29,
   "id": "be65ad44",
   "metadata": {
    "execution": {
     "iopub.execute_input": "2024-06-14T14:06:19.481972Z",
     "iopub.status.busy": "2024-06-14T14:06:19.481011Z",
     "iopub.status.idle": "2024-06-14T14:06:19.490790Z",
     "shell.execute_reply": "2024-06-14T14:06:19.489706Z"
    },
    "papermill": {
     "duration": 0.038775,
     "end_time": "2024-06-14T14:06:19.493010",
     "exception": false,
     "start_time": "2024-06-14T14:06:19.454235",
     "status": "completed"
    },
    "tags": []
   },
   "outputs": [
    {
     "data": {
      "text/plain": [
       "76"
      ]
     },
     "execution_count": 29,
     "metadata": {},
     "output_type": "execute_result"
    }
   ],
   "source": [
    "test_df.drop(columns = ['Fence', 'Alley', 'MiscFeature', 'PoolQC'], axis = 1, inplace = True)\n",
    "len(test_df.columns)"
   ]
  },
  {
   "cell_type": "code",
   "execution_count": 30,
   "id": "7a654ccc",
   "metadata": {
    "execution": {
     "iopub.execute_input": "2024-06-14T14:06:19.546577Z",
     "iopub.status.busy": "2024-06-14T14:06:19.546146Z",
     "iopub.status.idle": "2024-06-14T14:06:19.559234Z",
     "shell.execute_reply": "2024-06-14T14:06:19.558129Z"
    },
    "papermill": {
     "duration": 0.043013,
     "end_time": "2024-06-14T14:06:19.561738",
     "exception": false,
     "start_time": "2024-06-14T14:06:19.518725",
     "status": "completed"
    },
    "tags": []
   },
   "outputs": [],
   "source": [
    "basement_columns = ['BsmtQual', 'BsmtCond', 'BsmtExposure', 'BsmtFinType1', 'BsmtFinType2', 'GarageType', 'GarageYrBlt', 'GarageFinish', 'GarageQual', 'GarageCond']\n",
    "test_df[basement_columns] = test_df[basement_columns].fillna(value='None')"
   ]
  },
  {
   "cell_type": "code",
   "execution_count": 31,
   "id": "8ae46574",
   "metadata": {
    "execution": {
     "iopub.execute_input": "2024-06-14T14:06:19.617191Z",
     "iopub.status.busy": "2024-06-14T14:06:19.616742Z",
     "iopub.status.idle": "2024-06-14T14:06:19.626441Z",
     "shell.execute_reply": "2024-06-14T14:06:19.625245Z"
    },
    "papermill": {
     "duration": 0.041069,
     "end_time": "2024-06-14T14:06:19.628777",
     "exception": false,
     "start_time": "2024-06-14T14:06:19.587708",
     "status": "completed"
    },
    "tags": []
   },
   "outputs": [
    {
     "data": {
      "text/plain": [
       "0"
      ]
     },
     "execution_count": 31,
     "metadata": {},
     "output_type": "execute_result"
    }
   ],
   "source": [
    "test_df['MasVnrType'] = test_df['MasVnrType'].fillna('None')\n",
    "test_df['MasVnrType'].isnull().sum()"
   ]
  },
  {
   "cell_type": "code",
   "execution_count": 32,
   "id": "1df18135",
   "metadata": {
    "execution": {
     "iopub.execute_input": "2024-06-14T14:06:19.682857Z",
     "iopub.status.busy": "2024-06-14T14:06:19.682470Z",
     "iopub.status.idle": "2024-06-14T14:06:19.691003Z",
     "shell.execute_reply": "2024-06-14T14:06:19.689933Z"
    },
    "papermill": {
     "duration": 0.038753,
     "end_time": "2024-06-14T14:06:19.693499",
     "exception": false,
     "start_time": "2024-06-14T14:06:19.654746",
     "status": "completed"
    },
    "tags": []
   },
   "outputs": [
    {
     "data": {
      "text/plain": [
       "0"
      ]
     },
     "execution_count": 32,
     "metadata": {},
     "output_type": "execute_result"
    }
   ],
   "source": [
    "test_df['FireplaceQu'] = test_df['FireplaceQu'].fillna('None')\n",
    "test_df['FireplaceQu'].isnull().sum()"
   ]
  },
  {
   "cell_type": "code",
   "execution_count": 33,
   "id": "edaed52d",
   "metadata": {
    "execution": {
     "iopub.execute_input": "2024-06-14T14:06:19.746967Z",
     "iopub.status.busy": "2024-06-14T14:06:19.746583Z",
     "iopub.status.idle": "2024-06-14T14:06:19.765212Z",
     "shell.execute_reply": "2024-06-14T14:06:19.764205Z"
    },
    "papermill": {
     "duration": 0.048218,
     "end_time": "2024-06-14T14:06:19.767691",
     "exception": false,
     "start_time": "2024-06-14T14:06:19.719473",
     "status": "completed"
    },
    "tags": []
   },
   "outputs": [
    {
     "data": {
      "text/plain": [
       "0"
      ]
     },
     "execution_count": 33,
     "metadata": {},
     "output_type": "execute_result"
    }
   ],
   "source": [
    "test_df['LotFrontage'] = test_df.groupby('Neighborhood')['LotFrontage'].transform(lambda x: x.fillna(x.mean()))\n",
    "test_df['LotFrontage'].isnull().sum()"
   ]
  },
  {
   "cell_type": "code",
   "execution_count": 34,
   "id": "562fa3cb",
   "metadata": {
    "execution": {
     "iopub.execute_input": "2024-06-14T14:06:19.821571Z",
     "iopub.status.busy": "2024-06-14T14:06:19.821190Z",
     "iopub.status.idle": "2024-06-14T14:06:19.829714Z",
     "shell.execute_reply": "2024-06-14T14:06:19.828604Z"
    },
    "papermill": {
     "duration": 0.038456,
     "end_time": "2024-06-14T14:06:19.832037",
     "exception": false,
     "start_time": "2024-06-14T14:06:19.793581",
     "status": "completed"
    },
    "tags": []
   },
   "outputs": [],
   "source": [
    "test_df.drop('Id', axis = 1, inplace=True)"
   ]
  },
  {
   "cell_type": "code",
   "execution_count": 35,
   "id": "8e51c05a",
   "metadata": {
    "execution": {
     "iopub.execute_input": "2024-06-14T14:06:19.885803Z",
     "iopub.status.busy": "2024-06-14T14:06:19.885428Z",
     "iopub.status.idle": "2024-06-14T14:06:20.405520Z",
     "shell.execute_reply": "2024-06-14T14:06:20.404321Z"
    },
    "papermill": {
     "duration": 0.550357,
     "end_time": "2024-06-14T14:06:20.408381",
     "exception": false,
     "start_time": "2024-06-14T14:06:19.858024",
     "status": "completed"
    },
    "tags": []
   },
   "outputs": [
    {
     "data": {
      "image/png": "[encoded data removed]",
      "text/plain": [
       "<Figure size 1200x800 with 1 Axes>"
      ]
     },
     "metadata": {},
     "output_type": "display_data"
    }
   ],
   "source": [
    "missing_values = count_missing_values(test_df)\n",
    "plt.figure(figsize=(12,8))\n",
    "sns.barplot(x=missing_values['index'], y=missing_values[0])\n",
    "plt.title('Percents of missing values in test_df')\n",
    "plt.xlabel('Features')\n",
    "plt.ylabel('Percents')\n",
    "plt.xticks(rotation=90)\n",
    "plt.tight_layout()"
   ]
  },
  {
   "cell_type": "code",
   "execution_count": 36,
   "id": "611fb881",
   "metadata": {
    "execution": {
     "iopub.execute_input": "2024-06-14T14:06:20.466101Z",
     "iopub.status.busy": "2024-06-14T14:06:20.465679Z",
     "iopub.status.idle": "2024-06-14T14:06:20.510775Z",
     "shell.execute_reply": "2024-06-14T14:06:20.509645Z"
    },
    "papermill": {
     "duration": 0.07684,
     "end_time": "2024-06-14T14:06:20.513428",
     "exception": false,
     "start_time": "2024-06-14T14:06:20.436588",
     "status": "completed"
    },
    "tags": []
   },
   "outputs": [],
   "source": [
    "real_values = test_df.select_dtypes(exclude=['object'])\n",
    "str_values = test_df.select_dtypes(include=['object'])\n",
    "\n",
    "real_values.fillna(real_values.mean(), inplace=True)\n",
    "for col in str_values.columns:\n",
    "    mode = str_values[col].mode()[0]\n",
    "    str_values[col].fillna(mode, inplace=True)"
   ]
  },
  {
   "cell_type": "code",
   "execution_count": 37,
   "id": "11ebb052",
   "metadata": {
    "execution": {
     "iopub.execute_input": "2024-06-14T14:06:20.570467Z",
     "iopub.status.busy": "2024-06-14T14:06:20.569466Z",
     "iopub.status.idle": "2024-06-14T14:06:20.586075Z",
     "shell.execute_reply": "2024-06-14T14:06:20.584779Z"
    },
    "papermill": {
     "duration": 0.047615,
     "end_time": "2024-06-14T14:06:20.588380",
     "exception": false,
     "start_time": "2024-06-14T14:06:20.540765",
     "status": "completed"
    },
    "tags": []
   },
   "outputs": [
    {
     "data": {
      "text/html": [
       "<div>\n",
       "<style scoped>\n",
       "    .dataframe tbody tr th:only-of-type {\n",
       "        vertical-align: middle;\n",
       "    }\n",
       "\n",
       "    .dataframe tbody tr th {\n",
       "        vertical-align: top;\n",
       "    }\n",
       "\n",
       "    .dataframe thead th {\n",
       "        text-align: right;\n",
       "    }\n",
       "</style>\n",
       "<table border=\"1\" class=\"dataframe\">\n",
       "  <thead>\n",
       "    <tr style=\"text-align: right;\">\n",
       "      <th></th>\n",
       "      <th>index</th>\n",
       "      <th>0</th>\n",
       "    </tr>\n",
       "  </thead>\n",
       "  <tbody>\n",
       "  </tbody>\n",
       "</table>\n",
       "</div>"
      ],
      "text/plain": [
       "Empty DataFrame\n",
       "Columns: [index, 0]\n",
       "Index: []"
      ]
     },
     "execution_count": 37,
     "metadata": {},
     "output_type": "execute_result"
    }
   ],
   "source": [
    "count_missing_values(str_values)"
   ]
  },
  {
   "cell_type": "code",
   "execution_count": 38,
   "id": "18dc5e62",
   "metadata": {
    "execution": {
     "iopub.execute_input": "2024-06-14T14:06:20.645839Z",
     "iopub.status.busy": "2024-06-14T14:06:20.645446Z",
     "iopub.status.idle": "2024-06-14T14:06:20.658933Z",
     "shell.execute_reply": "2024-06-14T14:06:20.657888Z"
    },
    "papermill": {
     "duration": 0.045139,
     "end_time": "2024-06-14T14:06:20.661259",
     "exception": false,
     "start_time": "2024-06-14T14:06:20.616120",
     "status": "completed"
    },
    "tags": []
   },
   "outputs": [
    {
     "data": {
      "text/html": [
       "<div>\n",
       "<style scoped>\n",
       "    .dataframe tbody tr th:only-of-type {\n",
       "        vertical-align: middle;\n",
       "    }\n",
       "\n",
       "    .dataframe tbody tr th {\n",
       "        vertical-align: top;\n",
       "    }\n",
       "\n",
       "    .dataframe thead th {\n",
       "        text-align: right;\n",
       "    }\n",
       "</style>\n",
       "<table border=\"1\" class=\"dataframe\">\n",
       "  <thead>\n",
       "    <tr style=\"text-align: right;\">\n",
       "      <th></th>\n",
       "      <th>index</th>\n",
       "      <th>0</th>\n",
       "    </tr>\n",
       "  </thead>\n",
       "  <tbody>\n",
       "  </tbody>\n",
       "</table>\n",
       "</div>"
      ],
      "text/plain": [
       "Empty DataFrame\n",
       "Columns: [index, 0]\n",
       "Index: []"
      ]
     },
     "execution_count": 38,
     "metadata": {},
     "output_type": "execute_result"
    }
   ],
   "source": [
    "count_missing_values(real_values)"
   ]
  },
  {
   "cell_type": "code",
   "execution_count": 39,
   "id": "95e1178e",
   "metadata": {
    "execution": {
     "iopub.execute_input": "2024-06-14T14:06:20.716959Z",
     "iopub.status.busy": "2024-06-14T14:06:20.716608Z",
     "iopub.status.idle": "2024-06-14T14:06:20.726507Z",
     "shell.execute_reply": "2024-06-14T14:06:20.725161Z"
    },
    "papermill": {
     "duration": 0.040784,
     "end_time": "2024-06-14T14:06:20.729127",
     "exception": false,
     "start_time": "2024-06-14T14:06:20.688343",
     "status": "completed"
    },
    "tags": []
   },
   "outputs": [
    {
     "data": {
      "text/plain": [
       "(1459, 75)"
      ]
     },
     "execution_count": 39,
     "metadata": {},
     "output_type": "execute_result"
    }
   ],
   "source": [
    "test_df = pd.concat([real_values, str_values], axis=1)\n",
    "test_df.shape"
   ]
  },
  {
   "cell_type": "code",
   "execution_count": 40,
   "id": "85b5d729",
   "metadata": {
    "execution": {
     "iopub.execute_input": "2024-06-14T14:06:20.786045Z",
     "iopub.status.busy": "2024-06-14T14:06:20.785681Z",
     "iopub.status.idle": "2024-06-14T14:06:20.792741Z",
     "shell.execute_reply": "2024-06-14T14:06:20.791657Z"
    },
    "papermill": {
     "duration": 0.038519,
     "end_time": "2024-06-14T14:06:20.795091",
     "exception": false,
     "start_time": "2024-06-14T14:06:20.756572",
     "status": "completed"
    },
    "tags": []
   },
   "outputs": [
    {
     "data": {
      "text/plain": [
       "(1459, 76)"
      ]
     },
     "execution_count": 40,
     "metadata": {},
     "output_type": "execute_result"
    }
   ],
   "source": [
    "train_df.shape"
   ]
  },
  {
   "cell_type": "markdown",
   "id": "f3bce72b",
   "metadata": {
    "papermill": {
     "duration": 0.027292,
     "end_time": "2024-06-14T14:06:20.849942",
     "exception": false,
     "start_time": "2024-06-14T14:06:20.822650",
     "status": "completed"
    },
    "tags": []
   },
   "source": [
    "# Features engineering"
   ]
  },
  {
   "cell_type": "code",
   "execution_count": 41,
   "id": "aad845cf",
   "metadata": {
    "execution": {
     "iopub.execute_input": "2024-06-14T14:06:20.907436Z",
     "iopub.status.busy": "2024-06-14T14:06:20.906995Z",
     "iopub.status.idle": "2024-06-14T14:06:20.915335Z",
     "shell.execute_reply": "2024-06-14T14:06:20.914084Z"
    },
    "papermill": {
     "duration": 0.040046,
     "end_time": "2024-06-14T14:06:20.917769",
     "exception": false,
     "start_time": "2024-06-14T14:06:20.877723",
     "status": "completed"
    },
    "tags": []
   },
   "outputs": [
    {
     "data": {
      "text/plain": [
       "0    60\n",
       "1    20\n",
       "2    60\n",
       "3    70\n",
       "4    60\n",
       "Name: MSSubClass, dtype: int64"
      ]
     },
     "execution_count": 41,
     "metadata": {},
     "output_type": "execute_result"
    }
   ],
   "source": [
    "train_df['MSSubClass'].head()"
   ]
  },
  {
   "cell_type": "code",
   "execution_count": 42,
   "id": "ec90c783",
   "metadata": {
    "execution": {
     "iopub.execute_input": "2024-06-14T14:06:20.978465Z",
     "iopub.status.busy": "2024-06-14T14:06:20.977848Z",
     "iopub.status.idle": "2024-06-14T14:06:20.986498Z",
     "shell.execute_reply": "2024-06-14T14:06:20.985385Z"
    },
    "papermill": {
     "duration": 0.04299,
     "end_time": "2024-06-14T14:06:20.988884",
     "exception": false,
     "start_time": "2024-06-14T14:06:20.945894",
     "status": "completed"
    },
    "tags": []
   },
   "outputs": [],
   "source": [
    "train_df['MSSubClass'] = train_df['MSSubClass'].apply(str)\n",
    "test_df['MSSubClass'] = test_df['MSSubClass'].apply(str)"
   ]
  },
  {
   "cell_type": "code",
   "execution_count": 43,
   "id": "6c71b581",
   "metadata": {
    "execution": {
     "iopub.execute_input": "2024-06-14T14:06:21.046142Z",
     "iopub.status.busy": "2024-06-14T14:06:21.045739Z",
     "iopub.status.idle": "2024-06-14T14:06:21.057037Z",
     "shell.execute_reply": "2024-06-14T14:06:21.056132Z"
    },
    "papermill": {
     "duration": 0.043448,
     "end_time": "2024-06-14T14:06:21.059658",
     "exception": false,
     "start_time": "2024-06-14T14:06:21.016210",
     "status": "completed"
    },
    "tags": []
   },
   "outputs": [],
   "source": [
    "train_str_values = train_df.select_dtypes(include=['object'])\n",
    "train_real_values = train_df.select_dtypes(exclude=['object'])\n",
    "\n",
    "test_str_values = test_df.select_dtypes(include=['object'])\n",
    "test_real_values = test_df.select_dtypes(exclude=['object'])"
   ]
  },
  {
   "cell_type": "code",
   "execution_count": 44,
   "id": "12216e57",
   "metadata": {
    "execution": {
     "iopub.execute_input": "2024-06-14T14:06:21.119417Z",
     "iopub.status.busy": "2024-06-14T14:06:21.118005Z",
     "iopub.status.idle": "2024-06-14T14:06:21.126686Z",
     "shell.execute_reply": "2024-06-14T14:06:21.125270Z"
    },
    "papermill": {
     "duration": 0.042261,
     "end_time": "2024-06-14T14:06:21.129407",
     "exception": false,
     "start_time": "2024-06-14T14:06:21.087146",
     "status": "completed"
    },
    "tags": []
   },
   "outputs": [
    {
     "data": {
      "text/plain": [
       "(1459, 41)"
      ]
     },
     "execution_count": 44,
     "metadata": {},
     "output_type": "execute_result"
    }
   ],
   "source": [
    "train_str_values.shape"
   ]
  },
  {
   "cell_type": "code",
   "execution_count": 45,
   "id": "a6cb4e37",
   "metadata": {
    "execution": {
     "iopub.execute_input": "2024-06-14T14:06:21.190897Z",
     "iopub.status.busy": "2024-06-14T14:06:21.190490Z",
     "iopub.status.idle": "2024-06-14T14:06:21.198374Z",
     "shell.execute_reply": "2024-06-14T14:06:21.197057Z"
    },
    "papermill": {
     "duration": 0.041135,
     "end_time": "2024-06-14T14:06:21.200934",
     "exception": false,
     "start_time": "2024-06-14T14:06:21.159799",
     "status": "completed"
    },
    "tags": []
   },
   "outputs": [
    {
     "data": {
      "text/plain": [
       "(1459, 41)"
      ]
     },
     "execution_count": 45,
     "metadata": {},
     "output_type": "execute_result"
    }
   ],
   "source": [
    "test_str_values.shape"
   ]
  },
  {
   "cell_type": "code",
   "execution_count": 46,
   "id": "c99bf494",
   "metadata": {
    "execution": {
     "iopub.execute_input": "2024-06-14T14:06:21.260216Z",
     "iopub.status.busy": "2024-06-14T14:06:21.259808Z",
     "iopub.status.idle": "2024-06-14T14:06:21.339673Z",
     "shell.execute_reply": "2024-06-14T14:06:21.338431Z"
    },
    "papermill": {
     "duration": 0.11261,
     "end_time": "2024-06-14T14:06:21.342399",
     "exception": false,
     "start_time": "2024-06-14T14:06:21.229789",
     "status": "completed"
    },
    "tags": []
   },
   "outputs": [],
   "source": [
    "combined_str_values = pd.concat([train_str_values, test_str_values], axis=0)\n",
    "combined_dummies = pd.get_dummies(combined_str_values, drop_first=True, dtype='int')\n",
    "str_values_train_with_dummies = combined_dummies.iloc[:train_str_values.shape[0], :].reset_index(drop=True)\n",
    "str_values_test_with_dummies = combined_dummies.iloc[train_str_values.shape[0]:, :].reset_index(drop=True)"
   ]
  },
  {
   "cell_type": "code",
   "execution_count": 47,
   "id": "632470d5",
   "metadata": {
    "execution": {
     "iopub.execute_input": "2024-06-14T14:06:21.400701Z",
     "iopub.status.busy": "2024-06-14T14:06:21.399775Z",
     "iopub.status.idle": "2024-06-14T14:06:21.414204Z",
     "shell.execute_reply": "2024-06-14T14:06:21.413240Z"
    },
    "papermill": {
     "duration": 0.046475,
     "end_time": "2024-06-14T14:06:21.416743",
     "exception": false,
     "start_time": "2024-06-14T14:06:21.370268",
     "status": "completed"
    },
    "tags": []
   },
   "outputs": [],
   "source": [
    "final_train_df = pd.concat([str_values_train_with_dummies.reset_index(drop=True), train_real_values.reset_index(drop=True)], axis=1)\n",
    "final_test_df = pd.concat([str_values_test_with_dummies.reset_index(drop=True), test_real_values.reset_index(drop=True)], axis=1)"
   ]
  },
  {
   "cell_type": "markdown",
   "id": "e6c9c034",
   "metadata": {
    "papermill": {
     "duration": 0.027193,
     "end_time": "2024-06-14T14:06:21.471813",
     "exception": false,
     "start_time": "2024-06-14T14:06:21.444620",
     "status": "completed"
    },
    "tags": []
   },
   "source": [
    "# Modeling Linear Regression"
   ]
  },
  {
   "cell_type": "markdown",
   "id": "4e419e5e",
   "metadata": {
    "papermill": {
     "duration": 0.027292,
     "end_time": "2024-06-14T14:06:21.526687",
     "exception": false,
     "start_time": "2024-06-14T14:06:21.499395",
     "status": "completed"
    },
    "tags": []
   },
   "source": [
    "## Validation stage"
   ]
  },
  {
   "cell_type": "code",
   "execution_count": 48,
   "id": "c594f08e",
   "metadata": {
    "execution": {
     "iopub.execute_input": "2024-06-14T14:06:21.583817Z",
     "iopub.status.busy": "2024-06-14T14:06:21.583052Z",
     "iopub.status.idle": "2024-06-14T14:06:21.590416Z",
     "shell.execute_reply": "2024-06-14T14:06:21.589251Z"
    },
    "papermill": {
     "duration": 0.03869,
     "end_time": "2024-06-14T14:06:21.592953",
     "exception": false,
     "start_time": "2024-06-14T14:06:21.554263",
     "status": "completed"
    },
    "tags": []
   },
   "outputs": [],
   "source": [
    "X_train = final_train_df.drop('SalePrice', axis=1)\n",
    "y_train = final_train_df['SalePrice']\n",
    "\n",
    "X_test = final_test_df"
   ]
  },
  {
   "cell_type": "code",
   "execution_count": 49,
   "id": "eb4895b9",
   "metadata": {
    "execution": {
     "iopub.execute_input": "2024-06-14T14:06:21.649864Z",
     "iopub.status.busy": "2024-06-14T14:06:21.649476Z",
     "iopub.status.idle": "2024-06-14T14:06:21.784171Z",
     "shell.execute_reply": "2024-06-14T14:06:21.782734Z"
    },
    "papermill": {
     "duration": 0.167452,
     "end_time": "2024-06-14T14:06:21.787925",
     "exception": false,
     "start_time": "2024-06-14T14:06:21.620473",
     "status": "completed"
    },
    "tags": []
   },
   "outputs": [],
   "source": [
    "X_train, X_val, y_train, y_val = train_test_split(X_train, y_train, test_size=0.3, random_state=42)\n",
    "\n",
    "standard_scaler = StandardScaler()\n",
    "X_train = standard_scaler.fit_transform(X_train)\n",
    "X_val = standard_scaler.transform(X_val)\n",
    "\n",
    "model = LinearRegression()\n",
    "model.fit(X_train, y_train)\n",
    "y_pred = model.predict(X_val)"
   ]
  },
  {
   "cell_type": "code",
   "execution_count": 50,
   "id": "67c2253f",
   "metadata": {
    "execution": {
     "iopub.execute_input": "2024-06-14T14:06:21.916318Z",
     "iopub.status.busy": "2024-06-14T14:06:21.915930Z",
     "iopub.status.idle": "2024-06-14T14:06:22.448654Z",
     "shell.execute_reply": "2024-06-14T14:06:22.447383Z"
    },
    "papermill": {
     "duration": 0.582411,
     "end_time": "2024-06-14T14:06:22.451357",
     "exception": false,
     "start_time": "2024-06-14T14:06:21.868946",
     "status": "completed"
    },
    "tags": []
   },
   "outputs": [
    {
     "data": {
      "text/plain": [
       "(-100000.0, 100000.0)"
      ]
     },
     "execution_count": 50,
     "metadata": {},
     "output_type": "execute_result"
    },
    {
     "data": {
      "image/png": "[encoded data removed]",
      "text/plain": [
       "<Figure size 1200x800 with 1 Axes>"
      ]
     },
     "metadata": {},
     "output_type": "display_data"
    }
   ],
   "source": [
    "residuals = y_val - y_pred\n",
    "plt.figure(figsize=(12, 8), dpi=100)\n",
    "sns.scatterplot(x=y_val, y=residuals)\n",
    "plt.axhline(y=0, color='r', linestyle='--')\n",
    "plt.title(\"Residuals plot\")\n",
    "plt.xlabel('SalePrice')\n",
    "plt.ylabel('Residual')\n",
    "plt.ylim(-np.power(10, 5), np.power(10, 5))"
   ]
  },
  {
   "cell_type": "code",
   "execution_count": 51,
   "id": "32b8ce10",
   "metadata": {
    "execution": {
     "iopub.execute_input": "2024-06-14T14:06:22.510688Z",
     "iopub.status.busy": "2024-06-14T14:06:22.510283Z",
     "iopub.status.idle": "2024-06-14T14:06:23.572581Z",
     "shell.execute_reply": "2024-06-14T14:06:23.571093Z"
    },
    "papermill": {
     "duration": 1.096708,
     "end_time": "2024-06-14T14:06:23.576853",
     "exception": false,
     "start_time": "2024-06-14T14:06:22.480145",
     "status": "completed"
    },
    "tags": []
   },
   "outputs": [],
   "source": [
    "standard_scaler = StandardScaler()\n",
    "X_train = standard_scaler.fit_transform(X_train)\n",
    "X_test = standard_scaler.transform(X_test)\n",
    "\n",
    "model = LinearRegression()\n",
    "\n",
    "scores = cross_validate(model, X_train, y_train, \n",
    "                        scoring=['neg_mean_squared_error', 'neg_mean_absolute_error', 'max_error'], \n",
    "                        cv=10)"
   ]
  },
  {
   "cell_type": "code",
   "execution_count": 52,
   "id": "f2cd838a",
   "metadata": {
    "execution": {
     "iopub.execute_input": "2024-06-14T14:06:23.713061Z",
     "iopub.status.busy": "2024-06-14T14:06:23.712057Z",
     "iopub.status.idle": "2024-06-14T14:06:23.721790Z",
     "shell.execute_reply": "2024-06-14T14:06:23.720606Z"
    },
    "papermill": {
     "duration": 0.052142,
     "end_time": "2024-06-14T14:06:23.724143",
     "exception": false,
     "start_time": "2024-06-14T14:06:23.672001",
     "status": "completed"
    },
    "tags": []
   },
   "outputs": [
    {
     "data": {
      "text/plain": [
       "fit_time                        9.858198e-02\n",
       "score_time                      4.812884e-03\n",
       "test_neg_mean_squared_error    -2.340779e+35\n",
       "test_neg_mean_absolute_error   -4.084396e+16\n",
       "test_max_error                 -1.597103e+18\n",
       "dtype: float64"
      ]
     },
     "execution_count": 52,
     "metadata": {},
     "output_type": "execute_result"
    }
   ],
   "source": [
    "pd.DataFrame(scores).mean()"
   ]
  },
  {
   "cell_type": "markdown",
   "id": "b9a50dec",
   "metadata": {
    "papermill": {
     "duration": 0.028757,
     "end_time": "2024-06-14T14:06:23.781812",
     "exception": false,
     "start_time": "2024-06-14T14:06:23.753055",
     "status": "completed"
    },
    "tags": []
   },
   "source": [
    "# Modeling ElasticNet"
   ]
  },
  {
   "cell_type": "markdown",
   "id": "34276a06",
   "metadata": {
    "papermill": {
     "duration": 0.029138,
     "end_time": "2024-06-14T14:06:23.839844",
     "exception": false,
     "start_time": "2024-06-14T14:06:23.810706",
     "status": "completed"
    },
    "tags": []
   },
   "source": [
    "## Validation stage"
   ]
  },
  {
   "cell_type": "code",
   "execution_count": 53,
   "id": "73820380",
   "metadata": {
    "execution": {
     "iopub.execute_input": "2024-06-14T14:06:23.900667Z",
     "iopub.status.busy": "2024-06-14T14:06:23.900261Z",
     "iopub.status.idle": "2024-06-14T14:06:23.933595Z",
     "shell.execute_reply": "2024-06-14T14:06:23.932395Z"
    },
    "papermill": {
     "duration": 0.066403,
     "end_time": "2024-06-14T14:06:23.936187",
     "exception": false,
     "start_time": "2024-06-14T14:06:23.869784",
     "status": "completed"
    },
    "tags": []
   },
   "outputs": [],
   "source": [
    "X_train = final_train_df.drop('SalePrice', axis=1)\n",
    "y_train = final_train_df['SalePrice']\n",
    "\n",
    "X_train, X_val, y_train, y_val = train_test_split(X_train, y_train, test_size=0.3, random_state=42)\n",
    "\n",
    "standard_scaler = StandardScaler()\n",
    "X_train = standard_scaler.fit_transform(X_train)\n",
    "X_val = standard_scaler.transform(X_val)"
   ]
  },
  {
   "cell_type": "code",
   "execution_count": 54,
   "id": "6cf2968b",
   "metadata": {
    "execution": {
     "iopub.execute_input": "2024-06-14T14:06:23.997716Z",
     "iopub.status.busy": "2024-06-14T14:06:23.997294Z",
     "iopub.status.idle": "2024-06-14T14:06:24.003333Z",
     "shell.execute_reply": "2024-06-14T14:06:24.001979Z"
    },
    "papermill": {
     "duration": 0.040461,
     "end_time": "2024-06-14T14:06:24.005815",
     "exception": false,
     "start_time": "2024-06-14T14:06:23.965354",
     "status": "completed"
    },
    "tags": []
   },
   "outputs": [],
   "source": [
    "model = ElasticNet()\n",
    "params_dict = {'alpha': [0.1, 1, 10, 50, 90, 100],\n",
    "         'l1_ratio': [0.01, 0.1, 0.2, 0.5, 0.99, 1]}"
   ]
  },
  {
   "cell_type": "code",
   "execution_count": 55,
   "id": "cdd82717",
   "metadata": {
    "execution": {
     "iopub.execute_input": "2024-06-14T14:06:24.067374Z",
     "iopub.status.busy": "2024-06-14T14:06:24.066948Z",
     "iopub.status.idle": "2024-06-14T14:06:24.072209Z",
     "shell.execute_reply": "2024-06-14T14:06:24.070889Z"
    },
    "papermill": {
     "duration": 0.039585,
     "end_time": "2024-06-14T14:06:24.074789",
     "exception": false,
     "start_time": "2024-06-14T14:06:24.035204",
     "status": "completed"
    },
    "tags": []
   },
   "outputs": [],
   "source": [
    "grid_search_elastic_model = GridSearchCV(estimator=model,\n",
    "                                     param_grid=params_dict,\n",
    "                                     scoring='neg_mean_squared_error',\n",
    "                                     cv=5,\n",
    "                                     verbose=0)"
   ]
  },
  {
   "cell_type": "code",
   "execution_count": 56,
   "id": "3c26f777",
   "metadata": {
    "execution": {
     "iopub.execute_input": "2024-06-14T14:06:24.136018Z",
     "iopub.status.busy": "2024-06-14T14:06:24.134932Z",
     "iopub.status.idle": "2024-06-14T14:06:41.645030Z",
     "shell.execute_reply": "2024-06-14T14:06:41.643945Z"
    },
    "papermill": {
     "duration": 17.544444,
     "end_time": "2024-06-14T14:06:41.648526",
     "exception": false,
     "start_time": "2024-06-14T14:06:24.104082",
     "status": "completed"
    },
    "tags": []
   },
   "outputs": [
    {
     "data": {
      "text/html": [
       "<style>#sk-container-id-1 {color: black;background-color: white;}#sk-container-id-1 pre{padding: 0;}#sk-container-id-1 div.sk-toggleable {background-color: white;}#sk-container-id-1 label.sk-toggleable__label {cursor: pointer;display: block;width: 100%;margin-bottom: 0;padding: 0.3em;box-sizing: border-box;text-align: center;}#sk-container-id-1 label.sk-toggleable__label-arrow:before {content: \"▸\";float: left;margin-right: 0.25em;color: #696969;}#sk-container-id-1 label.sk-toggleable__label-arrow:hover:before {color: black;}#sk-container-id-1 div.sk-estimator:hover label.sk-toggleable__label-arrow:before {color: black;}#sk-container-id-1 div.sk-toggleable__content {max-height: 0;max-width: 0;overflow: hidden;text-align: left;background-color: #f0f8ff;}#sk-container-id-1 div.sk-toggleable__content pre {margin: 0.2em;color: black;border-radius: 0.25em;background-color: #f0f8ff;}#sk-container-id-1 input.sk-toggleable__control:checked~div.sk-toggleable__content {max-height: 200px;max-width: 100%;overflow: auto;}#sk-container-id-1 input.sk-toggleable__control:checked~label.sk-toggleable__label-arrow:before {content: \"▾\";}#sk-container-id-1 div.sk-estimator input.sk-toggleable__control:checked~label.sk-toggleable__label {background-color: #d4ebff;}#sk-container-id-1 div.sk-label input.sk-toggleable__control:checked~label.sk-toggleable__label {background-color: #d4ebff;}#sk-container-id-1 input.sk-hidden--visually {border: 0;clip: rect(1px 1px 1px 1px);clip: rect(1px, 1px, 1px, 1px);height: 1px;margin: -1px;overflow: hidden;padding: 0;position: absolute;width: 1px;}#sk-container-id-1 div.sk-estimator {font-family: monospace;background-color: #f0f8ff;border: 1px dotted black;border-radius: 0.25em;box-sizing: border-box;margin-bottom: 0.5em;}#sk-container-id-1 div.sk-estimator:hover {background-color: #d4ebff;}#sk-container-id-1 div.sk-parallel-item::after {content: \"\";width: 100%;border-bottom: 1px solid gray;flex-grow: 1;}#sk-container-id-1 div.sk-label:hover label.sk-toggleable__label {background-color: #d4ebff;}#sk-container-id-1 div.sk-serial::before {content: \"\";position: absolute;border-left: 1px solid gray;box-sizing: border-box;top: 0;bottom: 0;left: 50%;z-index: 0;}#sk-container-id-1 div.sk-serial {display: flex;flex-direction: column;align-items: center;background-color: white;padding-right: 0.2em;padding-left: 0.2em;position: relative;}#sk-container-id-1 div.sk-item {position: relative;z-index: 1;}#sk-container-id-1 div.sk-parallel {display: flex;align-items: stretch;justify-content: center;background-color: white;position: relative;}#sk-container-id-1 div.sk-item::before, #sk-container-id-1 div.sk-parallel-item::before {content: \"\";position: absolute;border-left: 1px solid gray;box-sizing: border-box;top: 0;bottom: 0;left: 50%;z-index: -1;}#sk-container-id-1 div.sk-parallel-item {display: flex;flex-direction: column;z-index: 1;position: relative;background-color: white;}#sk-container-id-1 div.sk-parallel-item:first-child::after {align-self: flex-end;width: 50%;}#sk-container-id-1 div.sk-parallel-item:last-child::after {align-self: flex-start;width: 50%;}#sk-container-id-1 div.sk-parallel-item:only-child::after {width: 0;}#sk-container-id-1 div.sk-dashed-wrapped {border: 1px dashed gray;margin: 0 0.4em 0.5em 0.4em;box-sizing: border-box;padding-bottom: 0.4em;background-color: white;}#sk-container-id-1 div.sk-label label {font-family: monospace;font-weight: bold;display: inline-block;line-height: 1.2em;}#sk-container-id-1 div.sk-label-container {text-align: center;}#sk-container-id-1 div.sk-container {/* jupyter's `normalize.less` sets `[hidden] { display: none; }` but bootstrap.min.css set `[hidden] { display: none !important; }` so we also need the `!important` here to be able to override the default hidden behavior on the sphinx rendered scikit-learn.org. See: https://github.com/scikit-learn/scikit-learn/issues/21755 */display: inline-block !important;position: relative;}#sk-container-id-1 div.sk-text-repr-fallback {display: none;}</style><div id=\"sk-container-id-1\" class=\"sk-top-container\"><div class=\"sk-text-repr-fallback\"><pre>GridSearchCV(cv=5, estimator=ElasticNet(),\n",
       "             param_grid={&#x27;alpha&#x27;: [0.1, 1, 10, 50, 90, 100],\n",
       "                         &#x27;l1_ratio&#x27;: [0.01, 0.1, 0.2, 0.5, 0.99, 1]},\n",
       "             scoring=&#x27;neg_mean_squared_error&#x27;)</pre><b>In a Jupyter environment, please rerun this cell to show the HTML representation or trust the notebook. <br />On GitHub, the HTML representation is unable to render, please try loading this page with nbviewer.org.</b></div><div class=\"sk-container\" hidden><div class=\"sk-item sk-dashed-wrapped\"><div class=\"sk-label-container\"><div class=\"sk-label sk-toggleable\"><input class=\"sk-toggleable__control sk-hidden--visually\" id=\"sk-estimator-id-1\" type=\"checkbox\" ><label for=\"sk-estimator-id-1\" class=\"sk-toggleable__label sk-toggleable__label-arrow\">GridSearchCV</label><div class=\"sk-toggleable__content\"><pre>GridSearchCV(cv=5, estimator=ElasticNet(),\n",
       "             param_grid={&#x27;alpha&#x27;: [0.1, 1, 10, 50, 90, 100],\n",
       "                         &#x27;l1_ratio&#x27;: [0.01, 0.1, 0.2, 0.5, 0.99, 1]},\n",
       "             scoring=&#x27;neg_mean_squared_error&#x27;)</pre></div></div></div><div class=\"sk-parallel\"><div class=\"sk-parallel-item\"><div class=\"sk-item\"><div class=\"sk-label-container\"><div class=\"sk-label sk-toggleable\"><input class=\"sk-toggleable__control sk-hidden--visually\" id=\"sk-estimator-id-2\" type=\"checkbox\" ><label for=\"sk-estimator-id-2\" class=\"sk-toggleable__label sk-toggleable__label-arrow\">estimator: ElasticNet</label><div class=\"sk-toggleable__content\"><pre>ElasticNet()</pre></div></div></div><div class=\"sk-serial\"><div class=\"sk-item\"><div class=\"sk-estimator sk-toggleable\"><input class=\"sk-toggleable__control sk-hidden--visually\" id=\"sk-estimator-id-3\" type=\"checkbox\" ><label for=\"sk-estimator-id-3\" class=\"sk-toggleable__label sk-toggleable__label-arrow\">ElasticNet</label><div class=\"sk-toggleable__content\"><pre>ElasticNet()</pre></div></div></div></div></div></div></div></div></div></div>"
      ],
      "text/plain": [
       "GridSearchCV(cv=5, estimator=ElasticNet(),\n",
       "             param_grid={'alpha': [0.1, 1, 10, 50, 90, 100],\n",
       "                         'l1_ratio': [0.01, 0.1, 0.2, 0.5, 0.99, 1]},\n",
       "             scoring='neg_mean_squared_error')"
      ]
     },
     "execution_count": 56,
     "metadata": {},
     "output_type": "execute_result"
    }
   ],
   "source": [
    "import warnings\n",
    "warnings.filterwarnings(\"ignore\")\n",
    "grid_search_elastic_model.fit(X_train, y_train)"
   ]
  },
  {
   "cell_type": "code",
   "execution_count": 57,
   "id": "1003d1eb",
   "metadata": {
    "execution": {
     "iopub.execute_input": "2024-06-14T14:06:41.750062Z",
     "iopub.status.busy": "2024-06-14T14:06:41.749557Z",
     "iopub.status.idle": "2024-06-14T14:06:41.757319Z",
     "shell.execute_reply": "2024-06-14T14:06:41.756262Z"
    },
    "papermill": {
     "duration": 0.06162,
     "end_time": "2024-06-14T14:06:41.759505",
     "exception": false,
     "start_time": "2024-06-14T14:06:41.697885",
     "status": "completed"
    },
    "tags": []
   },
   "outputs": [
    {
     "data": {
      "text/plain": [
       "{'alpha': 90, 'l1_ratio': 0.99}"
      ]
     },
     "execution_count": 57,
     "metadata": {},
     "output_type": "execute_result"
    }
   ],
   "source": [
    "grid_search_elastic_model.best_params_"
   ]
  },
  {
   "cell_type": "code",
   "execution_count": 58,
   "id": "6b73fc39",
   "metadata": {
    "execution": {
     "iopub.execute_input": "2024-06-14T14:06:41.819499Z",
     "iopub.status.busy": "2024-06-14T14:06:41.819129Z",
     "iopub.status.idle": "2024-06-14T14:06:41.833726Z",
     "shell.execute_reply": "2024-06-14T14:06:41.832379Z"
    },
    "papermill": {
     "duration": 0.048844,
     "end_time": "2024-06-14T14:06:41.837562",
     "exception": false,
     "start_time": "2024-06-14T14:06:41.788718",
     "status": "completed"
    },
    "tags": []
   },
   "outputs": [
    {
     "name": "stdout",
     "output_type": "stream",
     "text": [
      "MSE: 899854149.5518738\n",
      "RMSE: 29997.5690607068\n",
      "MAE: 17407.43305526672\n"
     ]
    }
   ],
   "source": [
    "y_pred = grid_search_elastic_model.predict(X_val)\n",
    "print(f\"MSE: {mean_squared_error(y_val, y_pred)}\")\n",
    "print(f\"RMSE: {np.sqrt(mean_squared_error(y_val, y_pred))}\")\n",
    "print(f\"MAE: {mean_absolute_error(y_val, y_pred)}\")"
   ]
  },
  {
   "cell_type": "markdown",
   "id": "e22ca87c",
   "metadata": {
    "papermill": {
     "duration": 0.051999,
     "end_time": "2024-06-14T14:06:41.939883",
     "exception": false,
     "start_time": "2024-06-14T14:06:41.887884",
     "status": "completed"
    },
    "tags": []
   },
   "source": [
    "# Polynomial Regression"
   ]
  },
  {
   "cell_type": "markdown",
   "id": "7b6d7756",
   "metadata": {
    "papermill": {
     "duration": 0.029149,
     "end_time": "2024-06-14T14:06:42.001156",
     "exception": false,
     "start_time": "2024-06-14T14:06:41.972007",
     "status": "completed"
    },
    "tags": []
   },
   "source": [
    "## Validation stage"
   ]
  },
  {
   "cell_type": "code",
   "execution_count": 59,
   "id": "21827b3e",
   "metadata": {
    "execution": {
     "iopub.execute_input": "2024-06-14T14:06:42.063986Z",
     "iopub.status.busy": "2024-06-14T14:06:42.063608Z",
     "iopub.status.idle": "2024-06-14T14:10:58.940370Z",
     "shell.execute_reply": "2024-06-14T14:10:58.939114Z"
    },
    "papermill": {
     "duration": 256.913758,
     "end_time": "2024-06-14T14:10:58.944331",
     "exception": false,
     "start_time": "2024-06-14T14:06:42.030573",
     "status": "completed"
    },
    "tags": []
   },
   "outputs": [],
   "source": [
    "X_train = train_df.drop('SalePrice', axis=1)\n",
    "y_train = train_df['SalePrice']\n",
    "\n",
    "# split into train and val\n",
    "X_train, X_val, y_train, y_val = train_test_split(X_train, y_train, test_size=0.3, random_state=42)\n",
    "\n",
    "# split into real and string values\n",
    "train_str_values = X_train.select_dtypes(include=['object'])\n",
    "train_real_values = X_train.select_dtypes(exclude=['object'])\n",
    "\n",
    "val_str_values = X_val.select_dtypes(include=['object'])\n",
    "val_real_values = X_val.select_dtypes(exclude=['object'])\n",
    "\n",
    "# One-hot-encoding\n",
    "combined_str_values = pd.concat([train_str_values, val_str_values], axis=0)\n",
    "combined_dummies = pd.get_dummies(combined_str_values, drop_first=True, dtype='int')\n",
    "str_values_train_with_dummies = combined_dummies.iloc[:train_str_values.shape[0], :].reset_index(drop=True)\n",
    "str_values_val_with_dummies = combined_dummies.iloc[train_str_values.shape[0]:, :].reset_index(drop=True)\n",
    "\n",
    "train_rmse_scores = []\n",
    "val_rmse_scores = []\n",
    "train_mae_scores = []\n",
    "val_mae_scores = []\n",
    "\n",
    "for i in range(1, 6):\n",
    "    # Make new real features\n",
    "    polynomial = PolynomialFeatures(degree=i, include_bias=False)\n",
    "    poly_train_features = polynomial.fit_transform(train_real_values)\n",
    "    poly_val_features = polynomial.transform(val_real_values)\n",
    "\n",
    "    # Convert to df and convert columns names to string\n",
    "    poly_train_features_df = pd.DataFrame(poly_train_features, index=train_real_values.index) \n",
    "    poly_val_features_df = pd.DataFrame(poly_val_features, index=val_real_values.index) \n",
    "    poly_train_features_df.columns = poly_train_features_df.columns.astype(str)\n",
    "    poly_val_features_df.columns = poly_val_features_df.columns.astype(str)\n",
    "    \n",
    "    # Merge data\n",
    "    X_train = pd.concat([poly_train_features_df.reset_index(drop=True), str_values_train_with_dummies.reset_index(drop=True)], axis=1)\n",
    "    X_val = pd.concat([poly_val_features_df.reset_index(drop=True), str_values_val_with_dummies.reset_index(drop=True)], axis=1)\n",
    "    \n",
    "    # Scaling\n",
    "    scaler = StandardScaler()\n",
    "    X_train = scaler.fit_transform(X_train)\n",
    "    X_val = scaler.transform(X_val)\n",
    "\n",
    "    # Make model\n",
    "    model = LinearRegression(fit_intercept=True)\n",
    "    model.fit(X_train, y_train)\n",
    "    \n",
    "    # Predict\n",
    "    y_train_pred = model.predict(X_train)\n",
    "    y_val_pred = model.predict(X_val)\n",
    "\n",
    "    train_rmse_scores.append(np.sqrt(mean_squared_error(y_train, y_train_pred)))\n",
    "    val_rmse_scores.append(np.sqrt(mean_squared_error(y_val, y_val_pred)))\n",
    "    train_mae_scores.append(mean_absolute_error(y_train, y_train_pred))\n",
    "    val_mae_scores.append(mean_absolute_error(y_val, y_val_pred))"
   ]
  },
  {
   "cell_type": "code",
   "execution_count": 60,
   "id": "71547e06",
   "metadata": {
    "execution": {
     "iopub.execute_input": "2024-06-14T14:10:59.050099Z",
     "iopub.status.busy": "2024-06-14T14:10:59.049200Z",
     "iopub.status.idle": "2024-06-14T14:10:59.423550Z",
     "shell.execute_reply": "2024-06-14T14:10:59.422330Z"
    },
    "papermill": {
     "duration": 0.429534,
     "end_time": "2024-06-14T14:10:59.426264",
     "exception": false,
     "start_time": "2024-06-14T14:10:58.996730",
     "status": "completed"
    },
    "tags": []
   },
   "outputs": [
    {
     "data": {
      "text/plain": [
       "<matplotlib.legend.Legend at 0x7e361c958df0>"
      ]
     },
     "execution_count": 60,
     "metadata": {},
     "output_type": "execute_result"
    },
    {
     "data": {
      "image/png": "[encoded data removed]",
      "text/plain": [
       "<Figure size 1200x800 with 1 Axes>"
      ]
     },
     "metadata": {},
     "output_type": "display_data"
    }
   ],
   "source": [
    "plt.figure(figsize=(12,8), dpi=100)\n",
    "plt.scatter(range(1, 6), train_rmse_scores, color='blue', marker='o', label='training')\n",
    "plt.plot(range(1, 6), val_rmse_scores, color='orange', label='validation')\n",
    "plt.xlabel('Degree')\n",
    "plt.ylabel('Loss value')\n",
    "plt.ylim(0, np.power(10, 5.2))\n",
    "plt.title('RMSE loss')\n",
    "plt.legend()"
   ]
  },
  {
   "cell_type": "code",
   "execution_count": 61,
   "id": "d26a3a85",
   "metadata": {
    "execution": {
     "iopub.execute_input": "2024-06-14T14:10:59.488359Z",
     "iopub.status.busy": "2024-06-14T14:10:59.487972Z",
     "iopub.status.idle": "2024-06-14T14:10:59.494912Z",
     "shell.execute_reply": "2024-06-14T14:10:59.493807Z"
    },
    "papermill": {
     "duration": 0.040821,
     "end_time": "2024-06-14T14:10:59.497339",
     "exception": false,
     "start_time": "2024-06-14T14:10:59.456518",
     "status": "completed"
    },
    "tags": []
   },
   "outputs": [
    {
     "data": {
      "text/plain": [
       "6.116867066013997e-10"
      ]
     },
     "execution_count": 61,
     "metadata": {},
     "output_type": "execute_result"
    }
   ],
   "source": [
    "min(train_rmse_scores)"
   ]
  },
  {
   "cell_type": "code",
   "execution_count": 62,
   "id": "0cd465a8",
   "metadata": {
    "execution": {
     "iopub.execute_input": "2024-06-14T14:10:59.559953Z",
     "iopub.status.busy": "2024-06-14T14:10:59.559151Z",
     "iopub.status.idle": "2024-06-14T14:10:59.565894Z",
     "shell.execute_reply": "2024-06-14T14:10:59.564830Z"
    },
    "papermill": {
     "duration": 0.040445,
     "end_time": "2024-06-14T14:10:59.568027",
     "exception": false,
     "start_time": "2024-06-14T14:10:59.527582",
     "status": "completed"
    },
    "tags": []
   },
   "outputs": [
    {
     "data": {
      "text/plain": [
       "91216.02443391204"
      ]
     },
     "execution_count": 62,
     "metadata": {},
     "output_type": "execute_result"
    }
   ],
   "source": [
    "min(val_rmse_scores)"
   ]
  },
  {
   "cell_type": "code",
   "execution_count": 63,
   "id": "21bc678f",
   "metadata": {
    "execution": {
     "iopub.execute_input": "2024-06-14T14:10:59.630961Z",
     "iopub.status.busy": "2024-06-14T14:10:59.629839Z",
     "iopub.status.idle": "2024-06-14T14:10:59.967734Z",
     "shell.execute_reply": "2024-06-14T14:10:59.966620Z"
    },
    "papermill": {
     "duration": 0.372299,
     "end_time": "2024-06-14T14:10:59.970329",
     "exception": false,
     "start_time": "2024-06-14T14:10:59.598030",
     "status": "completed"
    },
    "tags": []
   },
   "outputs": [
    {
     "data": {
      "text/plain": [
       "<matplotlib.legend.Legend at 0x7e361cef7040>"
      ]
     },
     "execution_count": 63,
     "metadata": {},
     "output_type": "execute_result"
    },
    {
     "data": {
      "image/png": "[encoded data removed]",
      "text/plain": [
       "<Figure size 1200x800 with 1 Axes>"
      ]
     },
     "metadata": {},
     "output_type": "display_data"
    }
   ],
   "source": [
    "plt.figure(figsize=(12,8), dpi=100)\n",
    "plt.scatter(range(1, 6), train_mae_scores, color='blue', marker='o', label='training')\n",
    "plt.plot(range(1, 6), val_mae_scores, color='orange', label='validation')\n",
    "plt.xlabel('Degree')\n",
    "plt.ylabel('Loss value')\n",
    "plt.ylim(0, np.power(10, 5))\n",
    "plt.title('MAE loss')\n",
    "plt.legend()"
   ]
  },
  {
   "cell_type": "code",
   "execution_count": 64,
   "id": "a0af3b44",
   "metadata": {
    "execution": {
     "iopub.execute_input": "2024-06-14T14:11:00.035119Z",
     "iopub.status.busy": "2024-06-14T14:11:00.034148Z",
     "iopub.status.idle": "2024-06-14T14:11:00.040747Z",
     "shell.execute_reply": "2024-06-14T14:11:00.039756Z"
    },
    "papermill": {
     "duration": 0.040975,
     "end_time": "2024-06-14T14:11:00.042920",
     "exception": false,
     "start_time": "2024-06-14T14:11:00.001945",
     "status": "completed"
    },
    "tags": []
   },
   "outputs": [
    {
     "data": {
      "text/plain": [
       "4.04332304714534e-10"
      ]
     },
     "execution_count": 64,
     "metadata": {},
     "output_type": "execute_result"
    }
   ],
   "source": [
    "min(train_mae_scores)"
   ]
  },
  {
   "cell_type": "code",
   "execution_count": 65,
   "id": "60fbd600",
   "metadata": {
    "execution": {
     "iopub.execute_input": "2024-06-14T14:11:00.107895Z",
     "iopub.status.busy": "2024-06-14T14:11:00.107533Z",
     "iopub.status.idle": "2024-06-14T14:11:00.114047Z",
     "shell.execute_reply": "2024-06-14T14:11:00.113009Z"
    },
    "papermill": {
     "duration": 0.042195,
     "end_time": "2024-06-14T14:11:00.116150",
     "exception": false,
     "start_time": "2024-06-14T14:11:00.073955",
     "status": "completed"
    },
    "tags": []
   },
   "outputs": [
    {
     "data": {
      "text/plain": [
       "51435.20248236655"
      ]
     },
     "execution_count": 65,
     "metadata": {},
     "output_type": "execute_result"
    }
   ],
   "source": [
    "min(val_mae_scores)"
   ]
  },
  {
   "cell_type": "markdown",
   "id": "c9d72aa2",
   "metadata": {
    "papermill": {
     "duration": 0.030796,
     "end_time": "2024-06-14T14:11:00.178658",
     "exception": false,
     "start_time": "2024-06-14T14:11:00.147862",
     "status": "completed"
    },
    "tags": []
   },
   "source": [
    "# ElasticNet full train"
   ]
  },
  {
   "cell_type": "code",
   "execution_count": 66,
   "id": "1c2b4976",
   "metadata": {
    "execution": {
     "iopub.execute_input": "2024-06-14T14:11:00.244571Z",
     "iopub.status.busy": "2024-06-14T14:11:00.244158Z",
     "iopub.status.idle": "2024-06-14T14:11:26.066931Z",
     "shell.execute_reply": "2024-06-14T14:11:26.065684Z"
    },
    "papermill": {
     "duration": 25.858669,
     "end_time": "2024-06-14T14:11:26.069970",
     "exception": false,
     "start_time": "2024-06-14T14:11:00.211301",
     "status": "completed"
    },
    "tags": []
   },
   "outputs": [
    {
     "data": {
      "text/html": [
       "<style>#sk-container-id-2 {color: black;background-color: white;}#sk-container-id-2 pre{padding: 0;}#sk-container-id-2 div.sk-toggleable {background-color: white;}#sk-container-id-2 label.sk-toggleable__label {cursor: pointer;display: block;width: 100%;margin-bottom: 0;padding: 0.3em;box-sizing: border-box;text-align: center;}#sk-container-id-2 label.sk-toggleable__label-arrow:before {content: \"▸\";float: left;margin-right: 0.25em;color: #696969;}#sk-container-id-2 label.sk-toggleable__label-arrow:hover:before {color: black;}#sk-container-id-2 div.sk-estimator:hover label.sk-toggleable__label-arrow:before {color: black;}#sk-container-id-2 div.sk-toggleable__content {max-height: 0;max-width: 0;overflow: hidden;text-align: left;background-color: #f0f8ff;}#sk-container-id-2 div.sk-toggleable__content pre {margin: 0.2em;color: black;border-radius: 0.25em;background-color: #f0f8ff;}#sk-container-id-2 input.sk-toggleable__control:checked~div.sk-toggleable__content {max-height: 200px;max-width: 100%;overflow: auto;}#sk-container-id-2 input.sk-toggleable__control:checked~label.sk-toggleable__label-arrow:before {content: \"▾\";}#sk-container-id-2 div.sk-estimator input.sk-toggleable__control:checked~label.sk-toggleable__label {background-color: #d4ebff;}#sk-container-id-2 div.sk-label input.sk-toggleable__control:checked~label.sk-toggleable__label {background-color: #d4ebff;}#sk-container-id-2 input.sk-hidden--visually {border: 0;clip: rect(1px 1px 1px 1px);clip: rect(1px, 1px, 1px, 1px);height: 1px;margin: -1px;overflow: hidden;padding: 0;position: absolute;width: 1px;}#sk-container-id-2 div.sk-estimator {font-family: monospace;background-color: #f0f8ff;border: 1px dotted black;border-radius: 0.25em;box-sizing: border-box;margin-bottom: 0.5em;}#sk-container-id-2 div.sk-estimator:hover {background-color: #d4ebff;}#sk-container-id-2 div.sk-parallel-item::after {content: \"\";width: 100%;border-bottom: 1px solid gray;flex-grow: 1;}#sk-container-id-2 div.sk-label:hover label.sk-toggleable__label {background-color: #d4ebff;}#sk-container-id-2 div.sk-serial::before {content: \"\";position: absolute;border-left: 1px solid gray;box-sizing: border-box;top: 0;bottom: 0;left: 50%;z-index: 0;}#sk-container-id-2 div.sk-serial {display: flex;flex-direction: column;align-items: center;background-color: white;padding-right: 0.2em;padding-left: 0.2em;position: relative;}#sk-container-id-2 div.sk-item {position: relative;z-index: 1;}#sk-container-id-2 div.sk-parallel {display: flex;align-items: stretch;justify-content: center;background-color: white;position: relative;}#sk-container-id-2 div.sk-item::before, #sk-container-id-2 div.sk-parallel-item::before {content: \"\";position: absolute;border-left: 1px solid gray;box-sizing: border-box;top: 0;bottom: 0;left: 50%;z-index: -1;}#sk-container-id-2 div.sk-parallel-item {display: flex;flex-direction: column;z-index: 1;position: relative;background-color: white;}#sk-container-id-2 div.sk-parallel-item:first-child::after {align-self: flex-end;width: 50%;}#sk-container-id-2 div.sk-parallel-item:last-child::after {align-self: flex-start;width: 50%;}#sk-container-id-2 div.sk-parallel-item:only-child::after {width: 0;}#sk-container-id-2 div.sk-dashed-wrapped {border: 1px dashed gray;margin: 0 0.4em 0.5em 0.4em;box-sizing: border-box;padding-bottom: 0.4em;background-color: white;}#sk-container-id-2 div.sk-label label {font-family: monospace;font-weight: bold;display: inline-block;line-height: 1.2em;}#sk-container-id-2 div.sk-label-container {text-align: center;}#sk-container-id-2 div.sk-container {/* jupyter's `normalize.less` sets `[hidden] { display: none; }` but bootstrap.min.css set `[hidden] { display: none !important; }` so we also need the `!important` here to be able to override the default hidden behavior on the sphinx rendered scikit-learn.org. See: https://github.com/scikit-learn/scikit-learn/issues/21755 */display: inline-block !important;position: relative;}#sk-container-id-2 div.sk-text-repr-fallback {display: none;}</style><div id=\"sk-container-id-2\" class=\"sk-top-container\"><div class=\"sk-text-repr-fallback\"><pre>GridSearchCV(cv=5, estimator=ElasticNet(),\n",
       "             param_grid={&#x27;alpha&#x27;: [0.1, 1, 10, 50, 90, 100],\n",
       "                         &#x27;l1_ratio&#x27;: [0.01, 0.1, 0.2, 0.5, 0.99, 1]},\n",
       "             scoring=&#x27;neg_mean_squared_error&#x27;)</pre><b>In a Jupyter environment, please rerun this cell to show the HTML representation or trust the notebook. <br />On GitHub, the HTML representation is unable to render, please try loading this page with nbviewer.org.</b></div><div class=\"sk-container\" hidden><div class=\"sk-item sk-dashed-wrapped\"><div class=\"sk-label-container\"><div class=\"sk-label sk-toggleable\"><input class=\"sk-toggleable__control sk-hidden--visually\" id=\"sk-estimator-id-4\" type=\"checkbox\" ><label for=\"sk-estimator-id-4\" class=\"sk-toggleable__label sk-toggleable__label-arrow\">GridSearchCV</label><div class=\"sk-toggleable__content\"><pre>GridSearchCV(cv=5, estimator=ElasticNet(),\n",
       "             param_grid={&#x27;alpha&#x27;: [0.1, 1, 10, 50, 90, 100],\n",
       "                         &#x27;l1_ratio&#x27;: [0.01, 0.1, 0.2, 0.5, 0.99, 1]},\n",
       "             scoring=&#x27;neg_mean_squared_error&#x27;)</pre></div></div></div><div class=\"sk-parallel\"><div class=\"sk-parallel-item\"><div class=\"sk-item\"><div class=\"sk-label-container\"><div class=\"sk-label sk-toggleable\"><input class=\"sk-toggleable__control sk-hidden--visually\" id=\"sk-estimator-id-5\" type=\"checkbox\" ><label for=\"sk-estimator-id-5\" class=\"sk-toggleable__label sk-toggleable__label-arrow\">estimator: ElasticNet</label><div class=\"sk-toggleable__content\"><pre>ElasticNet()</pre></div></div></div><div class=\"sk-serial\"><div class=\"sk-item\"><div class=\"sk-estimator sk-toggleable\"><input class=\"sk-toggleable__control sk-hidden--visually\" id=\"sk-estimator-id-6\" type=\"checkbox\" ><label for=\"sk-estimator-id-6\" class=\"sk-toggleable__label sk-toggleable__label-arrow\">ElasticNet</label><div class=\"sk-toggleable__content\"><pre>ElasticNet()</pre></div></div></div></div></div></div></div></div></div></div>"
      ],
      "text/plain": [
       "GridSearchCV(cv=5, estimator=ElasticNet(),\n",
       "             param_grid={'alpha': [0.1, 1, 10, 50, 90, 100],\n",
       "                         'l1_ratio': [0.01, 0.1, 0.2, 0.5, 0.99, 1]},\n",
       "             scoring='neg_mean_squared_error')"
      ]
     },
     "execution_count": 66,
     "metadata": {},
     "output_type": "execute_result"
    }
   ],
   "source": [
    "import warnings\n",
    "warnings.filterwarnings(\"ignore\")\n",
    "\n",
    "# Split data\n",
    "X_train = final_train_df.drop('SalePrice', axis=1)\n",
    "y_train = final_train_df['SalePrice']\n",
    "X_test = final_test_df\n",
    "\n",
    "# Scaling\n",
    "standard_scaler = StandardScaler()\n",
    "X_train = standard_scaler.fit_transform(X_train)\n",
    "X_test = standard_scaler.transform(X_test)\n",
    "\n",
    "# Make model\n",
    "model = ElasticNet()\n",
    "params_dict = {'alpha': [0.1, 1, 10, 50, 90, 100],\n",
    "         'l1_ratio': [0.01, 0.1, 0.2, 0.5, 0.99, 1]}\n",
    "\n",
    "grid_search_elastic_model = GridSearchCV(estimator=model,\n",
    "                                     param_grid=params_dict,\n",
    "                                     scoring='neg_mean_squared_error',\n",
    "                                     cv=5,\n",
    "                                     verbose=0)\n",
    "\n",
    "grid_search_elastic_model.fit(X_train, y_train)"
   ]
  },
  {
   "cell_type": "code",
   "execution_count": 67,
   "id": "8935af95",
   "metadata": {
    "execution": {
     "iopub.execute_input": "2024-06-14T14:11:26.206641Z",
     "iopub.status.busy": "2024-06-14T14:11:26.206224Z",
     "iopub.status.idle": "2024-06-14T14:11:26.212963Z",
     "shell.execute_reply": "2024-06-14T14:11:26.211883Z"
    },
    "papermill": {
     "duration": 0.042196,
     "end_time": "2024-06-14T14:11:26.215448",
     "exception": false,
     "start_time": "2024-06-14T14:11:26.173252",
     "status": "completed"
    },
    "tags": []
   },
   "outputs": [
    {
     "data": {
      "text/plain": [
       "{'alpha': 50, 'l1_ratio': 0.99}"
      ]
     },
     "execution_count": 67,
     "metadata": {},
     "output_type": "execute_result"
    }
   ],
   "source": [
    "grid_search_elastic_model.best_params_"
   ]
  },
  {
   "cell_type": "code",
   "execution_count": 68,
   "id": "22dea27e",
   "metadata": {
    "execution": {
     "iopub.execute_input": "2024-06-14T14:11:26.281236Z",
     "iopub.status.busy": "2024-06-14T14:11:26.280828Z",
     "iopub.status.idle": "2024-06-14T14:11:26.287190Z",
     "shell.execute_reply": "2024-06-14T14:11:26.285912Z"
    },
    "papermill": {
     "duration": 0.047142,
     "end_time": "2024-06-14T14:11:26.294563",
     "exception": false,
     "start_time": "2024-06-14T14:11:26.247421",
     "status": "completed"
    },
    "tags": []
   },
   "outputs": [],
   "source": [
    "y_pred = grid_search_elastic_model.predict(X_test)"
   ]
  },
  {
   "cell_type": "markdown",
   "id": "4032540e",
   "metadata": {
    "papermill": {
     "duration": 0.053556,
     "end_time": "2024-06-14T14:11:26.406423",
     "exception": false,
     "start_time": "2024-06-14T14:11:26.352867",
     "status": "completed"
    },
    "tags": []
   },
   "source": [
    "# Download results"
   ]
  },
  {
   "cell_type": "code",
   "execution_count": 69,
   "id": "17e39093",
   "metadata": {
    "execution": {
     "iopub.execute_input": "2024-06-14T14:11:26.473512Z",
     "iopub.status.busy": "2024-06-14T14:11:26.472979Z",
     "iopub.status.idle": "2024-06-14T14:11:26.486482Z",
     "shell.execute_reply": "2024-06-14T14:11:26.485290Z"
    },
    "papermill": {
     "duration": 0.049117,
     "end_time": "2024-06-14T14:11:26.488812",
     "exception": false,
     "start_time": "2024-06-14T14:11:26.439695",
     "status": "completed"
    },
    "tags": []
   },
   "outputs": [
    {
     "data": {
      "text/html": [
       "<div>\n",
       "<style scoped>\n",
       "    .dataframe tbody tr th:only-of-type {\n",
       "        vertical-align: middle;\n",
       "    }\n",
       "\n",
       "    .dataframe tbody tr th {\n",
       "        vertical-align: top;\n",
       "    }\n",
       "\n",
       "    .dataframe thead th {\n",
       "        text-align: right;\n",
       "    }\n",
       "</style>\n",
       "<table border=\"1\" class=\"dataframe\">\n",
       "  <thead>\n",
       "    <tr style=\"text-align: right;\">\n",
       "      <th></th>\n",
       "      <th>Id</th>\n",
       "      <th>SalePrice</th>\n",
       "    </tr>\n",
       "  </thead>\n",
       "  <tbody>\n",
       "    <tr>\n",
       "      <th>0</th>\n",
       "      <td>1461</td>\n",
       "      <td>106759.624022</td>\n",
       "    </tr>\n",
       "    <tr>\n",
       "      <th>1</th>\n",
       "      <td>1462</td>\n",
       "      <td>155932.451575</td>\n",
       "    </tr>\n",
       "    <tr>\n",
       "      <th>2</th>\n",
       "      <td>1463</td>\n",
       "      <td>183841.452235</td>\n",
       "    </tr>\n",
       "    <tr>\n",
       "      <th>3</th>\n",
       "      <td>1464</td>\n",
       "      <td>200882.834145</td>\n",
       "    </tr>\n",
       "    <tr>\n",
       "      <th>4</th>\n",
       "      <td>1465</td>\n",
       "      <td>202830.861201</td>\n",
       "    </tr>\n",
       "    <tr>\n",
       "      <th>...</th>\n",
       "      <td>...</td>\n",
       "      <td>...</td>\n",
       "    </tr>\n",
       "    <tr>\n",
       "      <th>1454</th>\n",
       "      <td>2915</td>\n",
       "      <td>78707.548529</td>\n",
       "    </tr>\n",
       "    <tr>\n",
       "      <th>1455</th>\n",
       "      <td>2916</td>\n",
       "      <td>79600.998100</td>\n",
       "    </tr>\n",
       "    <tr>\n",
       "      <th>1456</th>\n",
       "      <td>2917</td>\n",
       "      <td>176420.885852</td>\n",
       "    </tr>\n",
       "    <tr>\n",
       "      <th>1457</th>\n",
       "      <td>2918</td>\n",
       "      <td>112363.924706</td>\n",
       "    </tr>\n",
       "    <tr>\n",
       "      <th>1458</th>\n",
       "      <td>2919</td>\n",
       "      <td>221963.807271</td>\n",
       "    </tr>\n",
       "  </tbody>\n",
       "</table>\n",
       "<p>1459 rows × 2 columns</p>\n",
       "</div>"
      ],
      "text/plain": [
       "        Id      SalePrice\n",
       "0     1461  106759.624022\n",
       "1     1462  155932.451575\n",
       "2     1463  183841.452235\n",
       "3     1464  200882.834145\n",
       "4     1465  202830.861201\n",
       "...    ...            ...\n",
       "1454  2915   78707.548529\n",
       "1455  2916   79600.998100\n",
       "1456  2917  176420.885852\n",
       "1457  2918  112363.924706\n",
       "1458  2919  221963.807271\n",
       "\n",
       "[1459 rows x 2 columns]"
      ]
     },
     "execution_count": 69,
     "metadata": {},
     "output_type": "execute_result"
    }
   ],
   "source": [
    "output = pd.DataFrame({'Id': range(1461, 2920),\n",
    "                       'SalePrice': y_pred})\n",
    "output"
   ]
  },
  {
   "cell_type": "code",
   "execution_count": 70,
   "id": "28577192",
   "metadata": {
    "execution": {
     "iopub.execute_input": "2024-06-14T14:11:26.556504Z",
     "iopub.status.busy": "2024-06-14T14:11:26.555507Z",
     "iopub.status.idle": "2024-06-14T14:11:26.567573Z",
     "shell.execute_reply": "2024-06-14T14:11:26.566495Z"
    },
    "papermill": {
     "duration": 0.048612,
     "end_time": "2024-06-14T14:11:26.570153",
     "exception": false,
     "start_time": "2024-06-14T14:11:26.521541",
     "status": "completed"
    },
    "tags": []
   },
   "outputs": [],
   "source": [
    "output.to_csv('submission.csv', index=False)"
   ]
  }
 ],
 "metadata": {
  "kaggle": {
   "accelerator": "none",
   "dataSources": [
    {
     "databundleVersionId": 868283,
     "sourceId": 5407,
     "sourceType": "competition"
    }
   ],
   "dockerImageVersionId": 30698,
   "isGpuEnabled": false,
   "isInternetEnabled": true,
   "language": "python",
   "sourceType": "notebook"
  },
  "kernelspec": {
   "display_name": "Python 3",
   "language": "python",
   "name": "python3"
  },
  "language_info": {
   "codemirror_mode": {
    "name": "ipython",
    "version": 3
   },
   "file_extension": ".py",
   "mimetype": "text/x-python",
   "name": "python",
   "nbconvert_exporter": "python",
   "pygments_lexer": "ipython3",
   "version": "3.10.13"
  },
  "papermill": {
   "default_parameters": {},
   "duration": 319.621657,
   "end_time": "2024-06-14T14:11:27.323937",
   "environment_variables": {},
   "exception": null,
   "input_path": "__notebook__.ipynb",
   "output_path": "__notebook__.ipynb",
   "parameters": {},
   "start_time": "2024-06-14T14:06:07.702280",
   "version": "2.5.0"
  }
 },
 "nbformat": 4,
 "nbformat_minor": 5
}
